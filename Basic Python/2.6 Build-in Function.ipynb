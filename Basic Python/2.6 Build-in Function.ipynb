{
 "cells": [
  {
   "cell_type": "markdown",
   "id": "0aa59256",
   "metadata": {},
   "source": [
    "# Build-in Function"
   ]
  },
  {
   "cell_type": "code",
   "execution_count": 2,
   "id": "2fe2a60f",
   "metadata": {},
   "outputs": [
    {
     "name": "stdout",
     "output_type": "stream",
     "text": [
      "5\n",
      "5\n"
     ]
    }
   ],
   "source": [
    "print(abs(5))\n",
    "print(abs(-5))"
   ]
  },
  {
   "cell_type": "code",
   "execution_count": 3,
   "id": "0cd6e3f3",
   "metadata": {},
   "outputs": [
    {
     "name": "stdout",
     "output_type": "stream",
     "text": [
      "5.0\n",
      "5.0\n"
     ]
    }
   ],
   "source": [
    "print(abs(5.0))\n",
    "print(abs(-5.0))"
   ]
  },
  {
   "cell_type": "code",
   "execution_count": 4,
   "id": "3b110b74",
   "metadata": {},
   "outputs": [
    {
     "name": "stdout",
     "output_type": "stream",
     "text": [
      "2.23606797749979\n",
      "5.0\n"
     ]
    }
   ],
   "source": [
    "print(abs(1+2j))\n",
    "print(abs(3+4j))"
   ]
  },
  {
   "cell_type": "code",
   "execution_count": 5,
   "id": "2a3cb3a7",
   "metadata": {},
   "outputs": [
    {
     "ename": "TypeError",
     "evalue": "bad operand type for abs(): 'str'",
     "output_type": "error",
     "traceback": [
      "\u001b[1;31m---------------------------------------------------------------------------\u001b[0m",
      "\u001b[1;31mTypeError\u001b[0m                                 Traceback (most recent call last)",
      "Cell \u001b[1;32mIn [5], line 1\u001b[0m\n\u001b[1;32m----> 1\u001b[0m \u001b[38;5;28mprint\u001b[39m(\u001b[38;5;28;43mabs\u001b[39;49m\u001b[43m(\u001b[49m\u001b[38;5;124;43m\"\u001b[39;49m\u001b[38;5;124;43mNot Work\u001b[39;49m\u001b[38;5;124;43m\"\u001b[39;49m\u001b[43m)\u001b[49m)\n",
      "\u001b[1;31mTypeError\u001b[0m: bad operand type for abs(): 'str'"
     ]
    }
   ],
   "source": [
    "print(abs(\"Not Work\"))"
   ]
  },
  {
   "cell_type": "code",
   "execution_count": 7,
   "id": "e9692de0",
   "metadata": {},
   "outputs": [
    {
     "name": "stdout",
     "output_type": "stream",
     "text": [
      "0b11001000\n",
      "<class 'str'>\n"
     ]
    }
   ],
   "source": [
    "x = bin (200)\n",
    "print(x)\n",
    "print(type(x))"
   ]
  },
  {
   "cell_type": "code",
   "execution_count": 8,
   "id": "c4132895",
   "metadata": {},
   "outputs": [
    {
     "ename": "TypeError",
     "evalue": "'float' object cannot be interpreted as an integer",
     "output_type": "error",
     "traceback": [
      "\u001b[1;31m---------------------------------------------------------------------------\u001b[0m",
      "\u001b[1;31mTypeError\u001b[0m                                 Traceback (most recent call last)",
      "Cell \u001b[1;32mIn [8], line 1\u001b[0m\n\u001b[1;32m----> 1\u001b[0m x \u001b[38;5;241m=\u001b[39m \u001b[38;5;28;43mbin\u001b[39;49m\u001b[43m \u001b[49m\u001b[43m(\u001b[49m\u001b[38;5;241;43m200.0\u001b[39;49m\u001b[43m)\u001b[49m\n",
      "\u001b[1;31mTypeError\u001b[0m: 'float' object cannot be interpreted as an integer"
     ]
    }
   ],
   "source": [
    "x = bin (200.0)"
   ]
  },
  {
   "cell_type": "code",
   "execution_count": 9,
   "id": "9514dbef",
   "metadata": {},
   "outputs": [
    {
     "name": "stdout",
     "output_type": "stream",
     "text": [
      "ABCD\n"
     ]
    }
   ],
   "source": [
    "name = input()"
   ]
  },
  {
   "cell_type": "code",
   "execution_count": 10,
   "id": "e9154fe0",
   "metadata": {},
   "outputs": [
    {
     "name": "stdout",
     "output_type": "stream",
     "text": [
      "What is your name :Big\n"
     ]
    }
   ],
   "source": [
    "name = input(\"What is your name :\")"
   ]
  },
  {
   "cell_type": "code",
   "execution_count": 12,
   "id": "0a8f0152",
   "metadata": {},
   "outputs": [
    {
     "name": "stdout",
     "output_type": "stream",
     "text": [
      "32\n",
      "25\n",
      "1024\n",
      "1024\n"
     ]
    }
   ],
   "source": [
    "print(pow(2,5))\n",
    "print(pow(5,2))\n",
    "print(pow(exp = 10, base = 2))\n",
    "print(pow(base = 2 ,exp = 10))"
   ]
  },
  {
   "cell_type": "code",
   "execution_count": 19,
   "id": "289dcf8c",
   "metadata": {},
   "outputs": [
    {
     "name": "stdout",
     "output_type": "stream",
     "text": [
      "10\n",
      "10\n",
      "11.0\n",
      "z\n"
     ]
    }
   ],
   "source": [
    "print(max(10,2))\n",
    "print(max(2,10))\n",
    "print(max(1,2,3,5.0,4.0,10,8,11.0))\n",
    "print(max('a','b','c','d','e','f','g','z'))"
   ]
  },
  {
   "cell_type": "code",
   "execution_count": 26,
   "id": "909e734f",
   "metadata": {},
   "outputs": [
    {
     "name": "stdout",
     "output_type": "stream",
     "text": [
      "a-b a\n",
      "b\n"
     ]
    }
   ],
   "source": [
    "print(\"a\",\"b\",end = \" \",sep = \"-\")\n",
    "print(\"a\",\"b\",sep = \"\\n\")"
   ]
  }
 ],
 "metadata": {
  "kernelspec": {
   "display_name": "Python 3 (ipykernel)",
   "language": "python",
   "name": "python3"
  },
  "language_info": {
   "codemirror_mode": {
    "name": "ipython",
    "version": 3
   },
   "file_extension": ".py",
   "mimetype": "text/x-python",
   "name": "python",
   "nbconvert_exporter": "python",
   "pygments_lexer": "ipython3",
   "version": "3.10.7"
  }
 },
 "nbformat": 4,
 "nbformat_minor": 5
}
