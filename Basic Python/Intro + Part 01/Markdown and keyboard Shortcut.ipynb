{
 "cells": [
  {
   "cell_type": "markdown",
   "id": "6d0a4bc0",
   "metadata": {},
   "source": [
    "This is a **Markdown Cell**. We can *format* our content.\n",
    "Even write a list.\n",
    "- Item1\n",
    "- Item2\n",
    "- Item3\n",
    "\n",
    "# Hello Markdown\n",
    "## level-2 Heading\n",
    "### level-3\n",
    "\n",
    "This is paragraph 1\n",
    "\n",
    "This is paragraph 2\n",
    "\n",
    "---\n",
    "\n",
    "This is paragraph 3\n"
   ]
  },
  {
   "cell_type": "markdown",
   "id": "9dcfa214",
   "metadata": {},
   "source": [
    "We want to format **this is bold face**, while this will be in *italic*.This very simple and smooth."
   ]
  },
  {
   "cell_type": "markdown",
   "id": "07ddee7c",
   "metadata": {},
   "source": [
    "- Item 1\n",
    "- Item 2\n",
    "- Item 3\n",
    "\n",
    "1. Item 1\n",
    "1. Item 2\n",
    "1. Item 3\n"
   ]
  },
  {
   "cell_type": "markdown",
   "id": "46a49865",
   "metadata": {},
   "source": [
    "| ID | Score |\n",
    "|----|----|\n",
    "| 1 | 99 |\n",
    "| 2 | 100 |\n",
    "| 3 | 50 |\n",
    "| 4 | 70 |"
   ]
  },
  {
   "cell_type": "markdown",
   "id": "b392b2b8",
   "metadata": {},
   "source": [
    "![Photo of Miku](https://i0.wp.com/akibatan.com/wp-content/uploads/2020/11/hatsune-miku-nt-final-design-officially-released-02-1.jpg?ssl=1)"
   ]
  },
  {
   "cell_type": "markdown",
   "id": "19d9926b",
   "metadata": {},
   "source": [
    "[The Homepage Of Chula MOOC](https://mooc.chula.ac.th/)\n",
    "\n",
    "---\n",
    "\n",
    "<https://mooc.chula.ac.th/>"
   ]
  },
  {
   "cell_type": "markdown",
   "id": "689ad737",
   "metadata": {},
   "source": [
    "To start, type `jupyter notebook` at the command prompt"
   ]
  },
  {
   "cell_type": "markdown",
   "id": "46f54dc0",
   "metadata": {},
   "source": [
    "    function square(x){\n",
    "      return x*x\n",
    "    }"
   ]
  },
  {
   "cell_type": "code",
   "execution_count": 7,
   "id": "063c561e",
   "metadata": {},
   "outputs": [
    {
     "name": "stdout",
     "output_type": "stream",
     "text": [
      "6\n"
     ]
    }
   ],
   "source": [
    "a = 2\n",
    "b = 3\n",
    "print(a*b)"
   ]
  },
  {
   "cell_type": "code",
   "execution_count": 8,
   "id": "3b78cfbb",
   "metadata": {},
   "outputs": [
    {
     "name": "stdout",
     "output_type": "stream",
     "text": [
      "1\n"
     ]
    }
   ],
   "source": [
    "print(1)"
   ]
  },
  {
   "cell_type": "code",
   "execution_count": 9,
   "id": "80691eac",
   "metadata": {},
   "outputs": [
    {
     "name": "stdout",
     "output_type": "stream",
     "text": [
      "2\n",
      "3\n",
      "4\n",
      "5\n"
     ]
    }
   ],
   "source": [
    "print(2)\n",
    "print(3)\n",
    "print(4)\n",
    "print(5)"
   ]
  }
 ],
 "metadata": {
  "kernelspec": {
   "display_name": "Python 3 (ipykernel)",
   "language": "python",
   "name": "python3"
  },
  "language_info": {
   "codemirror_mode": {
    "name": "ipython",
    "version": 3
   },
   "file_extension": ".py",
   "mimetype": "text/x-python",
   "name": "python",
   "nbconvert_exporter": "python",
   "pygments_lexer": "ipython3",
   "version": "3.10.7"
  }
 },
 "nbformat": 4,
 "nbformat_minor": 5
}
