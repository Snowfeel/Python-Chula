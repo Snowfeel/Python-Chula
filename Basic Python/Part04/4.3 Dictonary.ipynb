{
 "cells": [
  {
   "cell_type": "markdown",
   "id": "ab1b8a9c",
   "metadata": {},
   "source": [
    "Dictonary"
   ]
  },
  {
   "cell_type": "code",
   "execution_count": 1,
   "id": "634bc90e",
   "metadata": {},
   "outputs": [],
   "source": [
    "book_info = ('Python Basics',39.99,2021,('D.Amos','D.Bader','J.Jablonski','F.Heisler'))"
   ]
  },
  {
   "cell_type": "code",
   "execution_count": 2,
   "id": "6da34b79",
   "metadata": {},
   "outputs": [],
   "source": [
    "dbook_info = {'title' : 'Python Basics',\n",
    "              'price' : 39.99,\n",
    "              'year' : 2021,\n",
    "              'authors' : ('D.Amos','D.Bader','J.Jablonski','F.Heisler')}"
   ]
  },
  {
   "cell_type": "code",
   "execution_count": 3,
   "id": "b7f9dda5",
   "metadata": {},
   "outputs": [
    {
     "name": "stdout",
     "output_type": "stream",
     "text": [
      "{'name': 'A B', 'tel': '02-222-2222'}\n",
      "<class 'dict'>\n"
     ]
    }
   ],
   "source": [
    "c = [('name','A B'),('tel','02-222-2222')]\n",
    "customer = dict(c)\n",
    "print(customer)\n",
    "print(type(customer))"
   ]
  },
  {
   "cell_type": "code",
   "execution_count": 4,
   "id": "12cefb79",
   "metadata": {},
   "outputs": [
    {
     "name": "stdout",
     "output_type": "stream",
     "text": [
      "{'name': 'A B', 'tel': '02-222-2222'}\n",
      "<class 'dict'>\n"
     ]
    }
   ],
   "source": [
    "customer = dict(name = 'A B', tel = '02-222-2222')\n",
    "print(customer)\n",
    "print(type(customer))"
   ]
  },
  {
   "cell_type": "code",
   "execution_count": 5,
   "id": "c0d5d079",
   "metadata": {},
   "outputs": [
    {
     "name": "stdout",
     "output_type": "stream",
     "text": [
      "{}\n",
      "<class 'dict'>\n"
     ]
    }
   ],
   "source": [
    "d = {}\n",
    "print(d)\n",
    "print(type(d))"
   ]
  },
  {
   "cell_type": "code",
   "execution_count": 6,
   "id": "f0c991b7",
   "metadata": {},
   "outputs": [
    {
     "name": "stdout",
     "output_type": "stream",
     "text": [
      "{1: 'a', 2: 'b'}\n"
     ]
    }
   ],
   "source": [
    "d = { 1 : 'a', 2 : 'b'}\n",
    "print(d)"
   ]
  },
  {
   "cell_type": "code",
   "execution_count": 7,
   "id": "a27a6e2f",
   "metadata": {},
   "outputs": [],
   "source": [
    "d = {1: [1,2,3],\n",
    "    'name' : 'Sara'}"
   ]
  },
  {
   "cell_type": "code",
   "execution_count": 8,
   "id": "820dd65b",
   "metadata": {},
   "outputs": [
    {
     "data": {
      "text/plain": [
       "[1]"
      ]
     },
     "execution_count": 8,
     "metadata": {},
     "output_type": "execute_result"
    }
   ],
   "source": [
    "[1]"
   ]
  },
  {
   "cell_type": "code",
   "execution_count": 9,
   "id": "0455a2c4",
   "metadata": {},
   "outputs": [
    {
     "name": "stdout",
     "output_type": "stream",
     "text": [
      "[1, 2, 3]\n"
     ]
    }
   ],
   "source": [
    "print(d[1])"
   ]
  },
  {
   "cell_type": "code",
   "execution_count": 10,
   "id": "05f2987b",
   "metadata": {},
   "outputs": [
    {
     "name": "stdout",
     "output_type": "stream",
     "text": [
      "('Python Basics', 39.99, 2021, ('D.Amos', 'D.Bader', 'J.Jablonski', 'F.Heisler'))\n"
     ]
    }
   ],
   "source": [
    "print(book_info)"
   ]
  },
  {
   "cell_type": "code",
   "execution_count": 12,
   "id": "ebecf97c",
   "metadata": {},
   "outputs": [
    {
     "name": "stdout",
     "output_type": "stream",
     "text": [
      "Python Basics\n"
     ]
    }
   ],
   "source": [
    "print(dbook_info['title'])"
   ]
  },
  {
   "cell_type": "code",
   "execution_count": 13,
   "id": "9aebd37a",
   "metadata": {},
   "outputs": [
    {
     "name": "stdout",
     "output_type": "stream",
     "text": [
      "('D.Amos', 'D.Bader', 'J.Jablonski', 'F.Heisler')\n"
     ]
    }
   ],
   "source": [
    "print(dbook_info['authors'])"
   ]
  },
  {
   "cell_type": "code",
   "execution_count": 15,
   "id": "a65c57eb",
   "metadata": {},
   "outputs": [
    {
     "data": {
      "text/plain": [
       "'Python Basics'"
      ]
     },
     "execution_count": 15,
     "metadata": {},
     "output_type": "execute_result"
    }
   ],
   "source": [
    "dbook_info.get('title')"
   ]
  },
  {
   "cell_type": "code",
   "execution_count": 16,
   "id": "22aa0ac0",
   "metadata": {},
   "outputs": [
    {
     "ename": "KeyError",
     "evalue": "'name'",
     "output_type": "error",
     "traceback": [
      "\u001b[1;31m---------------------------------------------------------------------------\u001b[0m",
      "\u001b[1;31mKeyError\u001b[0m                                  Traceback (most recent call last)",
      "Cell \u001b[1;32mIn [16], line 1\u001b[0m\n\u001b[1;32m----> 1\u001b[0m \u001b[43mdbook_info\u001b[49m\u001b[43m[\u001b[49m\u001b[38;5;124;43m'\u001b[39;49m\u001b[38;5;124;43mname\u001b[39;49m\u001b[38;5;124;43m'\u001b[39;49m\u001b[43m]\u001b[49m\n",
      "\u001b[1;31mKeyError\u001b[0m: 'name'"
     ]
    }
   ],
   "source": [
    "dbook_info['name']"
   ]
  },
  {
   "cell_type": "code",
   "execution_count": 18,
   "id": "67f787f5",
   "metadata": {},
   "outputs": [
    {
     "name": "stdout",
     "output_type": "stream",
     "text": [
      "None\n"
     ]
    }
   ],
   "source": [
    "print(dbook_info.get('name'))"
   ]
  },
  {
   "cell_type": "code",
   "execution_count": 19,
   "id": "4bed47f5",
   "metadata": {},
   "outputs": [],
   "source": [
    "customer = dict(name = 'A B',tel = '02-222-2222')\n",
    "customer['tel'] = '01-111-1111'"
   ]
  },
  {
   "cell_type": "code",
   "execution_count": 20,
   "id": "eb43b1a4",
   "metadata": {},
   "outputs": [
    {
     "name": "stdout",
     "output_type": "stream",
     "text": [
      "{'name': 'A B', 'tel': '01-111-1111'}\n"
     ]
    }
   ],
   "source": [
    "print(customer)"
   ]
  },
  {
   "cell_type": "code",
   "execution_count": 21,
   "id": "f8e61f50",
   "metadata": {},
   "outputs": [],
   "source": [
    "customer['DOB'] = '01/07/1990'"
   ]
  },
  {
   "cell_type": "code",
   "execution_count": 22,
   "id": "558e87de",
   "metadata": {},
   "outputs": [
    {
     "name": "stdout",
     "output_type": "stream",
     "text": [
      "{'name': 'A B', 'tel': '01-111-1111', 'DOB': '01/07/1990'}\n"
     ]
    }
   ],
   "source": [
    "print(customer)"
   ]
  },
  {
   "cell_type": "code",
   "execution_count": 25,
   "id": "3ee766b0",
   "metadata": {},
   "outputs": [
    {
     "name": "stdout",
     "output_type": "stream",
     "text": [
      "{'name': 'A B', 'tel': '01-111-1111', 'DOB': '01/07/1990', 'address': 'Bangkok'}\n"
     ]
    }
   ],
   "source": [
    "customer.update({'address' : 'Bangkok'})\n",
    "print(customer)"
   ]
  },
  {
   "cell_type": "code",
   "execution_count": 34,
   "id": "caca1f74",
   "metadata": {},
   "outputs": [],
   "source": [
    "customer.update({'address' : 'Phuket'})"
   ]
  },
  {
   "cell_type": "code",
   "execution_count": 35,
   "id": "f0ed2d5a",
   "metadata": {},
   "outputs": [
    {
     "name": "stdout",
     "output_type": "stream",
     "text": [
      "{'name': 'A B', 'tel': '01-111-1111', 'DOB': '01/07/1990', 'address': 'Phuket'}\n"
     ]
    }
   ],
   "source": [
    "print(customer)"
   ]
  },
  {
   "cell_type": "code",
   "execution_count": 36,
   "id": "7d40a195",
   "metadata": {},
   "outputs": [
    {
     "name": "stdout",
     "output_type": "stream",
     "text": [
      "{'name': 'A B', 'tel': '01-111-1111', 'DOB': '01/07/1990', 'address': 'Phuket'}\n",
      "{'name': 'A B', 'tel': '01-111-1111', 'DOB': '01/07/1990'}\n"
     ]
    }
   ],
   "source": [
    "print(customer)\n",
    "del customer['address']\n",
    "print(customer)"
   ]
  },
  {
   "cell_type": "code",
   "execution_count": 37,
   "id": "880d5955",
   "metadata": {},
   "outputs": [
    {
     "ename": "NameError",
     "evalue": "name 'customer' is not defined",
     "output_type": "error",
     "traceback": [
      "\u001b[1;31m---------------------------------------------------------------------------\u001b[0m",
      "\u001b[1;31mNameError\u001b[0m                                 Traceback (most recent call last)",
      "Cell \u001b[1;32mIn [37], line 2\u001b[0m\n\u001b[0;32m      1\u001b[0m \u001b[38;5;28;01mdel\u001b[39;00m customer\n\u001b[1;32m----> 2\u001b[0m \u001b[38;5;28mprint\u001b[39m(\u001b[43mcustomer\u001b[49m)\n",
      "\u001b[1;31mNameError\u001b[0m: name 'customer' is not defined"
     ]
    }
   ],
   "source": [
    "del customer\n",
    "print(customer)"
   ]
  },
  {
   "cell_type": "code",
   "execution_count": 38,
   "id": "40a1c7a2",
   "metadata": {},
   "outputs": [
    {
     "name": "stdout",
     "output_type": "stream",
     "text": [
      "{'title': 'Python Basics', 'price': 39.99, 'year': 2021, 'authors': ('D.Amos', 'D.Bader', 'J.Jablonski', 'F.Heisler')}\n"
     ]
    }
   ],
   "source": [
    "print(dbook_info)"
   ]
  },
  {
   "cell_type": "code",
   "execution_count": 39,
   "id": "6cc1f7d3",
   "metadata": {},
   "outputs": [
    {
     "name": "stdout",
     "output_type": "stream",
     "text": [
      "39.99\n",
      "{'title': 'Python Basics', 'year': 2021, 'authors': ('D.Amos', 'D.Bader', 'J.Jablonski', 'F.Heisler')}\n"
     ]
    }
   ],
   "source": [
    "p = dbook_info.pop('price')\n",
    "print(p)\n",
    "print(dbook_info)"
   ]
  },
  {
   "cell_type": "code",
   "execution_count": 40,
   "id": "9c6d783b",
   "metadata": {},
   "outputs": [
    {
     "ename": "KeyError",
     "evalue": "'price'",
     "output_type": "error",
     "traceback": [
      "\u001b[1;31m---------------------------------------------------------------------------\u001b[0m",
      "\u001b[1;31mKeyError\u001b[0m                                  Traceback (most recent call last)",
      "Cell \u001b[1;32mIn [40], line 1\u001b[0m\n\u001b[1;32m----> 1\u001b[0m p \u001b[38;5;241m=\u001b[39m \u001b[43mdbook_info\u001b[49m\u001b[38;5;241;43m.\u001b[39;49m\u001b[43mpop\u001b[49m\u001b[43m(\u001b[49m\u001b[38;5;124;43m'\u001b[39;49m\u001b[38;5;124;43mprice\u001b[39;49m\u001b[38;5;124;43m'\u001b[39;49m\u001b[43m)\u001b[49m\n",
      "\u001b[1;31mKeyError\u001b[0m: 'price'"
     ]
    }
   ],
   "source": [
    "p = dbook_info.pop('price')"
   ]
  },
  {
   "cell_type": "code",
   "execution_count": 41,
   "id": "910561b7",
   "metadata": {},
   "outputs": [
    {
     "name": "stdout",
     "output_type": "stream",
     "text": [
      "('authors', ('D.Amos', 'D.Bader', 'J.Jablonski', 'F.Heisler'))\n"
     ]
    }
   ],
   "source": [
    "i = dbook_info.popitem()\n",
    "print(i)"
   ]
  },
  {
   "cell_type": "code",
   "execution_count": 42,
   "id": "ee95a9e3",
   "metadata": {},
   "outputs": [
    {
     "name": "stdout",
     "output_type": "stream",
     "text": [
      "{'title': 'Python Basics', 'year': 2021}\n"
     ]
    }
   ],
   "source": [
    "print(dbook_info)"
   ]
  },
  {
   "cell_type": "code",
   "execution_count": 43,
   "id": "3756097b",
   "metadata": {},
   "outputs": [],
   "source": [
    "dbook_info.clear()"
   ]
  },
  {
   "cell_type": "code",
   "execution_count": 44,
   "id": "848b1cc3",
   "metadata": {},
   "outputs": [
    {
     "name": "stdout",
     "output_type": "stream",
     "text": [
      "{}\n"
     ]
    }
   ],
   "source": [
    "print(dbook_info)"
   ]
  },
  {
   "cell_type": "code",
   "execution_count": 45,
   "id": "e64e1bc2",
   "metadata": {},
   "outputs": [
    {
     "name": "stdout",
     "output_type": "stream",
     "text": [
      "{'soccer': 11, 'rugby': 15, 'volleyball': 6, 'basketball': 5, 'softball': 9}\n"
     ]
    }
   ],
   "source": [
    "sport = dict(soccer = 11 , rugby = 15 , volleyball = 6 ,basketball = 5,softball = 9)\n",
    "print(sport)"
   ]
  },
  {
   "cell_type": "code",
   "execution_count": 50,
   "id": "78b63e65",
   "metadata": {},
   "outputs": [
    {
     "name": "stdout",
     "output_type": "stream",
     "text": [
      "soccer\n",
      "rugby\n",
      "volleyball\n",
      "basketball\n",
      "softball\n"
     ]
    }
   ],
   "source": [
    "for i in sport:\n",
    "    print(i)"
   ]
  },
  {
   "cell_type": "code",
   "execution_count": 51,
   "id": "613fa1a0",
   "metadata": {},
   "outputs": [
    {
     "name": "stdout",
     "output_type": "stream",
     "text": [
      "11\n",
      "15\n",
      "6\n",
      "5\n",
      "9\n"
     ]
    }
   ],
   "source": [
    "for i in sport.values():\n",
    "    print(i)"
   ]
  },
  {
   "cell_type": "code",
   "execution_count": 52,
   "id": "488b70b3",
   "metadata": {},
   "outputs": [
    {
     "name": "stdout",
     "output_type": "stream",
     "text": [
      "11\n",
      "15\n",
      "6\n",
      "5\n",
      "9\n"
     ]
    }
   ],
   "source": [
    "for i in sport:\n",
    "    print(sport[i])"
   ]
  },
  {
   "cell_type": "code",
   "execution_count": 53,
   "id": "d565bed9",
   "metadata": {},
   "outputs": [
    {
     "name": "stdout",
     "output_type": "stream",
     "text": [
      "('soccer', 11)\n",
      "('rugby', 15)\n",
      "('volleyball', 6)\n",
      "('basketball', 5)\n",
      "('softball', 9)\n"
     ]
    }
   ],
   "source": [
    "for i in sport.items():\n",
    "    print(i)"
   ]
  },
  {
   "cell_type": "code",
   "execution_count": 54,
   "id": "0dda9d6a",
   "metadata": {},
   "outputs": [
    {
     "name": "stdout",
     "output_type": "stream",
     "text": [
      "soccer 11\n",
      "rugby 15\n",
      "volleyball 6\n",
      "basketball 5\n",
      "softball 9\n"
     ]
    }
   ],
   "source": [
    "for s,p in sport.items():\n",
    "    print(s,p)"
   ]
  },
  {
   "cell_type": "code",
   "execution_count": 55,
   "id": "45d0b508",
   "metadata": {},
   "outputs": [
    {
     "name": "stdout",
     "output_type": "stream",
     "text": [
      "{'soccer': 11, 'rugby': 15, 'volleyball': 6, 'basketball': 5, 'softball': 9}\n"
     ]
    }
   ],
   "source": [
    "a = sport.copy()\n",
    "print(a)"
   ]
  },
  {
   "cell_type": "code",
   "execution_count": 56,
   "id": "f59440f9",
   "metadata": {},
   "outputs": [
    {
     "name": "stdout",
     "output_type": "stream",
     "text": [
      "{'soccer': 11, 'rugby': 15, 'volleyball': 6, 'basketball': 5}\n",
      "{'soccer': 11, 'rugby': 15, 'volleyball': 6, 'basketball': 5, 'softball': 9}\n"
     ]
    }
   ],
   "source": [
    "a.popitem()\n",
    "print(a)\n",
    "print(sport)"
   ]
  },
  {
   "cell_type": "code",
   "execution_count": 58,
   "id": "9a6fdc46",
   "metadata": {},
   "outputs": [
    {
     "name": "stdout",
     "output_type": "stream",
     "text": [
      "{'soccer': 11, 'rugby': 15, 'volleyball': 6, 'basketball': 5, 'softball': 9}\n"
     ]
    }
   ],
   "source": [
    "b = dict(sport)\n",
    "print(b)"
   ]
  },
  {
   "cell_type": "code",
   "execution_count": 61,
   "id": "a6cecfd0",
   "metadata": {},
   "outputs": [
    {
     "name": "stdout",
     "output_type": "stream",
     "text": [
      "{'rugby': 15, 'volleyball': 6, 'basketball': 5, 'softball': 9}\n",
      "{'soccer': 11, 'rugby': 15, 'volleyball': 6, 'basketball': 5, 'softball': 9}\n"
     ]
    }
   ],
   "source": [
    "del b['soccer']\n",
    "print(b)\n",
    "print(sport)"
   ]
  },
  {
   "cell_type": "code",
   "execution_count": 64,
   "id": "124c07c9",
   "metadata": {},
   "outputs": [],
   "source": [
    "kids = {1:{'name':'Poom','age':10},\n",
    "       2:{'name':'Pao','age':12}}"
   ]
  },
  {
   "cell_type": "code",
   "execution_count": 65,
   "id": "dea52c7b",
   "metadata": {},
   "outputs": [
    {
     "name": "stdout",
     "output_type": "stream",
     "text": [
      "{1: {'name': 'Poom', 'age': 10}, 2: {'name': 'Pao', 'age': 12}}\n"
     ]
    }
   ],
   "source": [
    "print(kids)"
   ]
  },
  {
   "cell_type": "code",
   "execution_count": null,
   "id": "e676d166",
   "metadata": {},
   "outputs": [],
   "source": []
  }
 ],
 "metadata": {
  "kernelspec": {
   "display_name": "Python 3 (ipykernel)",
   "language": "python",
   "name": "python3"
  },
  "language_info": {
   "codemirror_mode": {
    "name": "ipython",
    "version": 3
   },
   "file_extension": ".py",
   "mimetype": "text/x-python",
   "name": "python",
   "nbconvert_exporter": "python",
   "pygments_lexer": "ipython3",
   "version": "3.10.7"
  }
 },
 "nbformat": 4,
 "nbformat_minor": 5
}
