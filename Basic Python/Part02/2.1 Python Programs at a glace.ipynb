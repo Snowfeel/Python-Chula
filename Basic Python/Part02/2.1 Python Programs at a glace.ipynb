{
 "cells": [
  {
   "cell_type": "markdown",
   "id": "7a46b175",
   "metadata": {},
   "source": [
    "# Python Programs at a glace\n",
    "Let's look at some Python programs with out worrying about *How* and *Why* just yet"
   ]
  },
  {
   "cell_type": "code",
   "execution_count": 1,
   "id": "f9e29dcd",
   "metadata": {},
   "outputs": [
    {
     "name": "stdout",
     "output_type": "stream",
     "text": [
      "Hello World\n"
     ]
    }
   ],
   "source": [
    "print(\"Hello World\")"
   ]
  },
  {
   "cell_type": "code",
   "execution_count": 2,
   "id": "a6404954",
   "metadata": {},
   "outputs": [
    {
     "name": "stdout",
     "output_type": "stream",
     "text": [
      "Hello Mars\n",
      "Hello Venus\n",
      "Hello Saturn\n"
     ]
    }
   ],
   "source": [
    "print(\"Hello Mars\")\n",
    "print(\"Hello Venus\")\n",
    "print(\"Hello Saturn\")"
   ]
  },
  {
   "cell_type": "markdown",
   "id": "77f1f7c2",
   "metadata": {},
   "source": [
    "From the output, we can see that each line was executed in *order* from *top* to *bottom*\n",
    "\n",
    "Python is **Case-sensitive**. `print` is not the same as `Print` "
   ]
  },
  {
   "cell_type": "code",
   "execution_count": 3,
   "id": "d3e0604e",
   "metadata": {},
   "outputs": [
    {
     "name": "stdout",
     "output_type": "stream",
     "text": [
      "Hello Mars\n"
     ]
    },
    {
     "ename": "NameError",
     "evalue": "name 'Print' is not defined",
     "output_type": "error",
     "traceback": [
      "\u001b[1;31m---------------------------------------------------------------------------\u001b[0m",
      "\u001b[1;31mNameError\u001b[0m                                 Traceback (most recent call last)",
      "Cell \u001b[1;32mIn [3], line 2\u001b[0m\n\u001b[0;32m      1\u001b[0m \u001b[38;5;28mprint\u001b[39m(\u001b[38;5;124m\"\u001b[39m\u001b[38;5;124mHello Mars\u001b[39m\u001b[38;5;124m\"\u001b[39m)\n\u001b[1;32m----> 2\u001b[0m \u001b[43mPrint\u001b[49m(\u001b[38;5;124m\"\u001b[39m\u001b[38;5;124mHello Venus\u001b[39m\u001b[38;5;124m\"\u001b[39m)\n\u001b[0;32m      3\u001b[0m \u001b[38;5;28mprint\u001b[39m(\u001b[38;5;124m\"\u001b[39m\u001b[38;5;124mHello Saturn\u001b[39m\u001b[38;5;124m\"\u001b[39m)\n",
      "\u001b[1;31mNameError\u001b[0m: name 'Print' is not defined"
     ]
    }
   ],
   "source": [
    "print(\"Hello Mars\")\n",
    "Print(\"Hello Venus\")\n",
    "print(\"Hello Saturn\")"
   ]
  },
  {
   "cell_type": "markdown",
   "id": "e9adfb4a",
   "metadata": {},
   "source": [
    "The code above produce a bug. When there is a bug (or there are bugs!!), programmers need to *read* the error messages, try to *understand* them,and **debug** the code."
   ]
  },
  {
   "cell_type": "markdown",
   "id": "1963e588",
   "metadata": {},
   "source": [
    "Next, let's take a look at basic Arithmetic operations.\n",
    "\n",
    "The symbols `+`,`-`,`*`,`/` are called **operatirs** which perfrom addition,subtraction,multiplication, and division respectively."
   ]
  },
  {
   "cell_type": "code",
   "execution_count": 4,
   "id": "74b9059a",
   "metadata": {},
   "outputs": [
    {
     "name": "stdout",
     "output_type": "stream",
     "text": [
      "15\n",
      "5\n",
      "50\n",
      "2.0\n"
     ]
    }
   ],
   "source": [
    "print(10+5)\n",
    "print(10-5)\n",
    "print(10*5)\n",
    "print(10/5)"
   ]
  },
  {
   "cell_type": "markdown",
   "id": "e93758c2",
   "metadata": {},
   "source": [
    "Any texts coming after `#` upto the end of the line is considered a **comment**. It will Not be executed.\n",
    "\n",
    "Use comments to explain programs."
   ]
  },
  {
   "cell_type": "code",
   "execution_count": 5,
   "id": "8e9d1f24",
   "metadata": {},
   "outputs": [
    {
     "name": "stdout",
     "output_type": "stream",
     "text": [
      "Enter your name: Thananut\n",
      "Hello Thananut\n"
     ]
    }
   ],
   "source": [
    "# Prompt the user to input his/her name and store in the variable name\n",
    "name = input(\"Enter your name: \")\n",
    "# Concatenate \"Hello\" with name and print it out.\n",
    "print(\"Hello \" + name)"
   ]
  },
  {
   "cell_type": "markdown",
   "id": "eb058fc3",
   "metadata": {},
   "source": [
    "**Variables** as well as *input* will be discussed later in this course.\n",
    "\n",
    "In many programming languages, indentation with spacebar or tab at the beginning of the line does not matter but NOT in Python.\n",
    "\n",
    "In Python, **indentation** of each line directly means something about the structure of the program.\n"
   ]
  },
  {
   "cell_type": "code",
   "execution_count": 6,
   "id": "215e34c5",
   "metadata": {},
   "outputs": [
    {
     "ename": "IndentationError",
     "evalue": "unexpected indent (246916144.py, line 2)",
     "output_type": "error",
     "traceback": [
      "\u001b[1;36m  Cell \u001b[1;32mIn [6], line 2\u001b[1;36m\u001b[0m\n\u001b[1;33m    print(\"Hello Venus\")\u001b[0m\n\u001b[1;37m    ^\u001b[0m\n\u001b[1;31mIndentationError\u001b[0m\u001b[1;31m:\u001b[0m unexpected indent\n"
     ]
    }
   ],
   "source": [
    "print(\"Hello Mars\")\n",
    " print(\"Hello Venus\")\n",
    "print(\"Hello Saturn\")"
   ]
  },
  {
   "cell_type": "code",
   "execution_count": 9,
   "id": "225a818b",
   "metadata": {},
   "outputs": [
    {
     "name": "stdout",
     "output_type": "stream",
     "text": [
      "Type go: go\n",
      "Ready?\n",
      "Let's go\n",
      "Have a good day\n"
     ]
    }
   ],
   "source": [
    "x = input(\"Type go: \")\n",
    "if x==\"go\":\n",
    "    print(\"Ready?\")\n",
    "    print(\"Let's go\")\n",
    "print(\"Have a good day\")"
   ]
  },
  {
   "cell_type": "markdown",
   "id": "73e4f518",
   "metadata": {},
   "source": [
    "Again, programs with decissions (E.g.`if`) will be discussed later in this coruse\n",
    "\n",
    "> Do not worry :)"
   ]
  },
  {
   "cell_type": "markdown",
   "id": "d5e96358",
   "metadata": {},
   "source": [
    "Well, we have learned some basics and a few techical terms.This demo"
   ]
  },
  {
   "cell_type": "code",
   "execution_count": null,
   "id": "6aff516b",
   "metadata": {},
   "outputs": [],
   "source": []
  }
 ],
 "metadata": {
  "kernelspec": {
   "display_name": "Python 3 (ipykernel)",
   "language": "python",
   "name": "python3"
  },
  "language_info": {
   "codemirror_mode": {
    "name": "ipython",
    "version": 3
   },
   "file_extension": ".py",
   "mimetype": "text/x-python",
   "name": "python",
   "nbconvert_exporter": "python",
   "pygments_lexer": "ipython3",
   "version": "3.10.7"
  }
 },
 "nbformat": 4,
 "nbformat_minor": 5
}
