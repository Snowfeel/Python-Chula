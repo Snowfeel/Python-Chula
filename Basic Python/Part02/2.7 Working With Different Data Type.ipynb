{
 "cells": [
  {
   "cell_type": "markdown",
   "id": "7a3b6a3d",
   "metadata": {},
   "source": [
    "# Working With Different Data Type"
   ]
  },
  {
   "cell_type": "code",
   "execution_count": 1,
   "id": "51c1a9d0",
   "metadata": {},
   "outputs": [
    {
     "name": "stdout",
     "output_type": "stream",
     "text": [
      "<class 'int'>\n"
     ]
    }
   ],
   "source": [
    "print(type(78 + 22))"
   ]
  },
  {
   "cell_type": "code",
   "execution_count": 2,
   "id": "ca2a99df",
   "metadata": {},
   "outputs": [
    {
     "name": "stdout",
     "output_type": "stream",
     "text": [
      "<class 'int'>\n"
     ]
    }
   ],
   "source": [
    "print(type(78 + 22 * 5))"
   ]
  },
  {
   "cell_type": "code",
   "execution_count": 3,
   "id": "265361b9",
   "metadata": {},
   "outputs": [
    {
     "name": "stdout",
     "output_type": "stream",
     "text": [
      "<class 'float'>\n"
     ]
    }
   ],
   "source": [
    "print(type(12.5-1.0))"
   ]
  },
  {
   "cell_type": "code",
   "execution_count": 4,
   "id": "ad0b44da",
   "metadata": {},
   "outputs": [
    {
     "name": "stdout",
     "output_type": "stream",
     "text": [
      "<class 'complex'>\n"
     ]
    }
   ],
   "source": [
    "print(type( 2 + 3j + 1 - 2j))"
   ]
  },
  {
   "cell_type": "code",
   "execution_count": 5,
   "id": "7c8d74a8",
   "metadata": {},
   "outputs": [
    {
     "name": "stdout",
     "output_type": "stream",
     "text": [
      "<class 'float'>\n"
     ]
    }
   ],
   "source": [
    "print(type (2/2))"
   ]
  },
  {
   "cell_type": "code",
   "execution_count": 6,
   "id": "f9567698",
   "metadata": {},
   "outputs": [
    {
     "name": "stdout",
     "output_type": "stream",
     "text": [
      "<class 'float'>\n"
     ]
    }
   ],
   "source": [
    "print(type( 2.0 / 2.0))"
   ]
  },
  {
   "cell_type": "code",
   "execution_count": 8,
   "id": "fee04f2b",
   "metadata": {},
   "outputs": [
    {
     "name": "stdout",
     "output_type": "stream",
     "text": [
      "(2+0j)\n",
      "<class 'complex'>\n"
     ]
    }
   ],
   "source": [
    "c1 = 4 + 4j\n",
    "c2 = 2 + 2j\n",
    "print(c1/c2)\n",
    "print(type(c1/c2))"
   ]
  },
  {
   "cell_type": "code",
   "execution_count": 9,
   "id": "10f700b5",
   "metadata": {},
   "outputs": [
    {
     "name": "stdout",
     "output_type": "stream",
     "text": [
      "4\n"
     ]
    }
   ],
   "source": [
    "print( 2 + 2)"
   ]
  },
  {
   "cell_type": "code",
   "execution_count": 10,
   "id": "969bcdcf",
   "metadata": {},
   "outputs": [
    {
     "name": "stdout",
     "output_type": "stream",
     "text": [
      "123\n"
     ]
    }
   ],
   "source": [
    "s = \"1\" + \"2\" + \"3\"\n",
    "print(s)"
   ]
  },
  {
   "cell_type": "code",
   "execution_count": 13,
   "id": "e8b1b083",
   "metadata": {},
   "outputs": [
    {
     "name": "stdout",
     "output_type": "stream",
     "text": [
      "^___^^___^^___^\n",
      "*___**___**___**___**___**___*\n"
     ]
    }
   ],
   "source": [
    "s = \"^___^\"\n",
    "print(s * 3)\n",
    "t = \"*___*\"\n",
    "print( 6 * t)"
   ]
  },
  {
   "cell_type": "code",
   "execution_count": 14,
   "id": "f08d5f35",
   "metadata": {},
   "outputs": [
    {
     "name": "stdout",
     "output_type": "stream",
     "text": [
      "<class 'float'>\n"
     ]
    }
   ],
   "source": [
    "print(type( 32 * 5.0 ))"
   ]
  },
  {
   "cell_type": "code",
   "execution_count": 17,
   "id": "a74a5442",
   "metadata": {},
   "outputs": [
    {
     "name": "stdout",
     "output_type": "stream",
     "text": [
      "<class 'complex'>\n",
      "<class 'complex'>\n"
     ]
    }
   ],
   "source": [
    "print(type(5 * (3 + 2j )))\n",
    "print(type((1 + 1j) + -0.5))"
   ]
  },
  {
   "cell_type": "code",
   "execution_count": 25,
   "id": "2d5e3437",
   "metadata": {},
   "outputs": [
    {
     "name": "stdout",
     "output_type": "stream",
     "text": [
      "Please enter n:10\n",
      "10^10 = 10000000000.0\n"
     ]
    }
   ],
   "source": [
    "n = input(\"Please enter n:\")\n",
    "result = float(n) ** 10\n",
    "print(n + \"^10 = \" + str(result))"
   ]
  },
  {
   "cell_type": "code",
   "execution_count": 31,
   "id": "fe13d575",
   "metadata": {},
   "outputs": [
    {
     "name": "stdout",
     "output_type": "stream",
     "text": [
      "1\n",
      "12\n",
      "1\n",
      "0\n"
     ]
    }
   ],
   "source": [
    "print(int(1.8))\n",
    "#print(int(2+2j))\n",
    "print(int(\"12\"))\n",
    "#print(int(\"12.5\"))\n",
    "#print(int(\"Hello\"))\n",
    "print(int(True))\n",
    "print(int(False))"
   ]
  },
  {
   "cell_type": "code",
   "execution_count": 32,
   "id": "a8644f63",
   "metadata": {},
   "outputs": [
    {
     "name": "stdout",
     "output_type": "stream",
     "text": [
      "1.0\n",
      "12.0\n",
      "12.5\n",
      "1.0\n",
      "0.0\n"
     ]
    }
   ],
   "source": [
    "print(float(1))\n",
    "#print(float(2+2j))\n",
    "print(float(\"12\"))\n",
    "print(float(\"12.5\"))\n",
    "print(float(True))\n",
    "print(float(False))"
   ]
  },
  {
   "cell_type": "code",
   "execution_count": 33,
   "id": "edd6ce3f",
   "metadata": {},
   "outputs": [
    {
     "name": "stdout",
     "output_type": "stream",
     "text": [
      "(1+0j)\n",
      "(2+0j)\n",
      "(12+0j)\n",
      "(12.5+0j)\n",
      "(1+0j)\n",
      "0j\n"
     ]
    }
   ],
   "source": [
    "print(complex(1))\n",
    "print(complex(2.0))\n",
    "print(complex(\"12\"))\n",
    "print(complex(\"12.5\"))\n",
    "print(complex(True))\n",
    "print(complex(False))"
   ]
  },
  {
   "cell_type": "code",
   "execution_count": 35,
   "id": "8eb8102c",
   "metadata": {},
   "outputs": [
    {
     "name": "stdout",
     "output_type": "stream",
     "text": [
      "(1+2j)\n",
      "(1-2j)\n"
     ]
    }
   ],
   "source": [
    "print(complex(1,2))\n",
    "print(complex(1,-2))"
   ]
  },
  {
   "cell_type": "code",
   "execution_count": 36,
   "id": "5d7af41e",
   "metadata": {},
   "outputs": [
    {
     "name": "stdout",
     "output_type": "stream",
     "text": [
      "1\n",
      "2.0\n",
      "12\n",
      "12.5\n",
      "True\n",
      "False\n"
     ]
    }
   ],
   "source": [
    "print(str(1))\n",
    "print(str(2.0))\n",
    "print(str(\"12\"))\n",
    "print(str(\"12.5\"))\n",
    "print(str(True))\n",
    "print(str(False))"
   ]
  },
  {
   "cell_type": "code",
   "execution_count": 40,
   "id": "90146c09",
   "metadata": {},
   "outputs": [
    {
     "name": "stdout",
     "output_type": "stream",
     "text": [
      "True\n",
      "True\n",
      "True\n",
      "True\n",
      "True\n",
      "True\n",
      "False\n"
     ]
    }
   ],
   "source": [
    "print(bool(1))\n",
    "print(bool(2.0))\n",
    "print(bool(\"12\"))\n",
    "print(bool(\"12.5\"))\n",
    "print(bool(\"True\"))\n",
    "print(bool(\"False\"))\n",
    "print(bool(0))"
   ]
  },
  {
   "cell_type": "code",
   "execution_count": null,
   "id": "b0d45ea8",
   "metadata": {},
   "outputs": [],
   "source": []
  }
 ],
 "metadata": {
  "kernelspec": {
   "display_name": "Python 3 (ipykernel)",
   "language": "python",
   "name": "python3"
  },
  "language_info": {
   "codemirror_mode": {
    "name": "ipython",
    "version": 3
   },
   "file_extension": ".py",
   "mimetype": "text/x-python",
   "name": "python",
   "nbconvert_exporter": "python",
   "pygments_lexer": "ipython3",
   "version": "3.10.7"
  }
 },
 "nbformat": 4,
 "nbformat_minor": 5
}
