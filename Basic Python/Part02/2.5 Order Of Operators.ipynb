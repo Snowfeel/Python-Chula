{
 "cells": [
  {
   "cell_type": "markdown",
   "id": "d486f8e2",
   "metadata": {},
   "source": [
    "Order Of Operators"
   ]
  },
  {
   "cell_type": "code",
   "execution_count": 1,
   "id": "e67ce1d4",
   "metadata": {},
   "outputs": [
    {
     "data": {
      "text/plain": [
       "10.0"
      ]
     },
     "execution_count": 1,
     "metadata": {},
     "output_type": "execute_result"
    }
   ],
   "source": [
    "2 + 3 * 5 - 6 + - 4 / 2 ** 2 "
   ]
  },
  {
   "cell_type": "code",
   "execution_count": 2,
   "id": "d59f60bc",
   "metadata": {},
   "outputs": [
    {
     "data": {
      "text/plain": [
       "-41"
      ]
     },
     "execution_count": 2,
     "metadata": {},
     "output_type": "execute_result"
    }
   ],
   "source": [
    "1 - 3 * ( 5 + 9 )"
   ]
  },
  {
   "cell_type": "code",
   "execution_count": 3,
   "id": "23064c6f",
   "metadata": {},
   "outputs": [
    {
     "data": {
      "text/plain": [
       "4.0"
      ]
     },
     "execution_count": 3,
     "metadata": {},
     "output_type": "execute_result"
    }
   ],
   "source": [
    "8 % 3 ** 2 / 2 "
   ]
  },
  {
   "cell_type": "code",
   "execution_count": 4,
   "id": "461c72e7",
   "metadata": {},
   "outputs": [
    {
     "data": {
      "text/plain": [
       "0.5"
      ]
     },
     "execution_count": 4,
     "metadata": {},
     "output_type": "execute_result"
    }
   ],
   "source": [
    "2 ** - 1 ** 4"
   ]
  },
  {
   "cell_type": "code",
   "execution_count": 5,
   "id": "3183d3a8",
   "metadata": {},
   "outputs": [
    {
     "data": {
      "text/plain": [
       "True"
      ]
     },
     "execution_count": 5,
     "metadata": {},
     "output_type": "execute_result"
    }
   ],
   "source": [
    "not 36 % 9 > 2 and 4 != 1"
   ]
  },
  {
   "cell_type": "code",
   "execution_count": 6,
   "id": "1d75c0db",
   "metadata": {
    "scrolled": true
   },
   "outputs": [
    {
     "name": "stdout",
     "output_type": "stream",
     "text": [
      "False\n",
      "False\n"
     ]
    }
   ],
   "source": [
    "a = b = 1 == 2\n",
    "print(a)\n",
    "print(b)"
   ]
  }
 ],
 "metadata": {
  "kernelspec": {
   "display_name": "Python 3 (ipykernel)",
   "language": "python",
   "name": "python3"
  },
  "language_info": {
   "codemirror_mode": {
    "name": "ipython",
    "version": 3
   },
   "file_extension": ".py",
   "mimetype": "text/x-python",
   "name": "python",
   "nbconvert_exporter": "python",
   "pygments_lexer": "ipython3",
   "version": "3.10.7"
  }
 },
 "nbformat": 4,
 "nbformat_minor": 5
}
