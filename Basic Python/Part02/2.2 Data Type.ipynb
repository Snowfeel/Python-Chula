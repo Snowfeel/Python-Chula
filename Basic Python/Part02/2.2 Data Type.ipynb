{
 "cells": [
  {
   "cell_type": "markdown",
   "id": "280a0908",
   "metadata": {},
   "source": [
    "# Data Type"
   ]
  },
  {
   "cell_type": "code",
   "execution_count": 2,
   "id": "545f694a",
   "metadata": {},
   "outputs": [
    {
     "name": "stdout",
     "output_type": "stream",
     "text": [
      "32\n",
      "64\n",
      "11000000\n"
     ]
    }
   ],
   "source": [
    "print(32)\n",
    "print(64)\n",
    "print(11000000)"
   ]
  },
  {
   "cell_type": "code",
   "execution_count": 3,
   "id": "8d8fa23a",
   "metadata": {},
   "outputs": [
    {
     "name": "stdout",
     "output_type": "stream",
     "text": [
      "<class 'int'>\n",
      "<class 'int'>\n",
      "<class 'int'>\n"
     ]
    }
   ],
   "source": [
    "print(type(32))\n",
    "print(type(64))\n",
    "print(type(11000000))"
   ]
  },
  {
   "cell_type": "code",
   "execution_count": 4,
   "id": "c73b4036",
   "metadata": {},
   "outputs": [
    {
     "name": "stdout",
     "output_type": "stream",
     "text": [
      "47.5\n",
      "1.0\n",
      "<class 'float'>\n",
      "<class 'float'>\n"
     ]
    }
   ],
   "source": [
    "print(47.5)\n",
    "print(1.0)\n",
    "print(type(47.5))\n",
    "print(type(1.0))"
   ]
  },
  {
   "cell_type": "code",
   "execution_count": 6,
   "id": "e974e1ad",
   "metadata": {},
   "outputs": [
    {
     "name": "stdout",
     "output_type": "stream",
     "text": [
      "(2+3j)\n",
      "(1.5-8j)\n",
      "<class 'complex'>\n",
      "<class 'complex'>\n"
     ]
    }
   ],
   "source": [
    "print(2+3j)\n",
    "print(1.5-8j)\n",
    "print(type(2+3j))\n",
    "print(type(1.5-8j))"
   ]
  },
  {
   "cell_type": "code",
   "execution_count": 7,
   "id": "7cd7fcd5",
   "metadata": {},
   "outputs": [
    {
     "ename": "NameError",
     "evalue": "name 'j' is not defined",
     "output_type": "error",
     "traceback": [
      "\u001b[1;31m---------------------------------------------------------------------------\u001b[0m",
      "\u001b[1;31mNameError\u001b[0m                                 Traceback (most recent call last)",
      "Cell \u001b[1;32mIn [7], line 1\u001b[0m\n\u001b[1;32m----> 1\u001b[0m \u001b[38;5;28mprint\u001b[39m(\u001b[43mj\u001b[49m)\n",
      "\u001b[1;31mNameError\u001b[0m: name 'j' is not defined"
     ]
    }
   ],
   "source": [
    "print(j)"
   ]
  },
  {
   "cell_type": "code",
   "execution_count": 9,
   "id": "bf2fb684",
   "metadata": {},
   "outputs": [
    {
     "name": "stdout",
     "output_type": "stream",
     "text": [
      "Hello World\n",
      "Hello World\n",
      "Hello World\n",
      "<class 'str'>\n",
      "<class 'str'>\n",
      "<class 'str'>\n"
     ]
    }
   ],
   "source": [
    "print('Hello World')\n",
    "print(\"Hello World\")\n",
    "print('''Hello World''')\n",
    "print(type('Hello World'))\n",
    "print(type(\"Hello World\"))\n",
    "print(type('''Hello World'''))"
   ]
  },
  {
   "cell_type": "code",
   "execution_count": 10,
   "id": "b4bc21bf",
   "metadata": {},
   "outputs": [
    {
     "name": "stdout",
     "output_type": "stream",
     "text": [
      "He said \"Hello!\"\n",
      "It's ok to say \"Goodbye.\" \n"
     ]
    }
   ],
   "source": [
    "print('He said \"Hello!\"')\n",
    "print('''It's ok to say \"Goodbye.\" ''')"
   ]
  },
  {
   "cell_type": "code",
   "execution_count": 13,
   "id": "a0a8b05d",
   "metadata": {},
   "outputs": [
    {
     "name": "stdout",
     "output_type": "stream",
     "text": [
      "He said \"Hello!\"\n",
      "It's ok to say \"Goodbye\".\n"
     ]
    }
   ],
   "source": [
    "print(\"He said \\\"Hello!\\\"\")\n",
    "print(\"It's ok to say \\\"Goodbye\\\".\")"
   ]
  },
  {
   "cell_type": "code",
   "execution_count": 14,
   "id": "af87557f",
   "metadata": {},
   "outputs": [
    {
     "name": "stdout",
     "output_type": "stream",
     "text": [
      "Escape characters start with \\\n"
     ]
    }
   ],
   "source": [
    "print(\"Escape characters start with \\\\\")"
   ]
  },
  {
   "cell_type": "code",
   "execution_count": 15,
   "id": "518d19d9",
   "metadata": {},
   "outputs": [
    {
     "name": "stdout",
     "output_type": "stream",
     "text": [
      "The first line.\n",
      "The second line.\n",
      "The third line.\n"
     ]
    }
   ],
   "source": [
    "print(\"The first line.\\nThe second line.\\nThe third line.\")"
   ]
  },
  {
   "cell_type": "code",
   "execution_count": 18,
   "id": "634d94b2",
   "metadata": {},
   "outputs": [
    {
     "name": "stdout",
     "output_type": "stream",
     "text": [
      "Storekeeper\n",
      "Storekeeper\n",
      "Storekeeper\n",
      "Storekeeper\n"
     ]
    }
   ],
   "source": [
    "print(\"Store\" \"keep\" \"er\")\n",
    "print(\"Store\"          \"keep\" \"er\")\n",
    "print(\"Store\"\"keep\"\"er\")\n",
    "print(\"Store\" 'keep' \"er\")"
   ]
  },
  {
   "cell_type": "code",
   "execution_count": 19,
   "id": "7dc6bff9",
   "metadata": {},
   "outputs": [
    {
     "name": "stdout",
     "output_type": "stream",
     "text": [
      "True\n",
      "<class 'bool'>\n",
      "False\n",
      "<class 'bool'>\n"
     ]
    }
   ],
   "source": [
    "print(True)\n",
    "print(type(True))\n",
    "print(False)\n",
    "print(type(False))"
   ]
  },
  {
   "cell_type": "code",
   "execution_count": null,
   "id": "25a17306",
   "metadata": {},
   "outputs": [],
   "source": []
  }
 ],
 "metadata": {
  "kernelspec": {
   "display_name": "Python 3 (ipykernel)",
   "language": "python",
   "name": "python3"
  },
  "language_info": {
   "codemirror_mode": {
    "name": "ipython",
    "version": 3
   },
   "file_extension": ".py",
   "mimetype": "text/x-python",
   "name": "python",
   "nbconvert_exporter": "python",
   "pygments_lexer": "ipython3",
   "version": "3.10.7"
  }
 },
 "nbformat": 4,
 "nbformat_minor": 5
}
