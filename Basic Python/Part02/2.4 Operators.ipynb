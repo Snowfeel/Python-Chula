{
 "cells": [
  {
   "cell_type": "markdown",
   "id": "ae721357",
   "metadata": {},
   "source": [
    "# Operators"
   ]
  },
  {
   "cell_type": "code",
   "execution_count": 1,
   "id": "03da4a75",
   "metadata": {},
   "outputs": [
    {
     "name": "stdout",
     "output_type": "stream",
     "text": [
      "25\n",
      "15\n",
      "100\n",
      "4.0\n"
     ]
    }
   ],
   "source": [
    "a = 20 \n",
    "b = 5\n",
    "print(a+b)\n",
    "print(a-b)\n",
    "print(a*b)\n",
    "print(a/b)"
   ]
  },
  {
   "cell_type": "code",
   "execution_count": 2,
   "id": "f9adaf60",
   "metadata": {},
   "outputs": [
    {
     "name": "stdout",
     "output_type": "stream",
     "text": [
      "-2\n",
      "1\n"
     ]
    }
   ],
   "source": [
    "a = 2\n",
    "print(-a)\n",
    "b=-1\n",
    "print(-b)"
   ]
  },
  {
   "cell_type": "code",
   "execution_count": 3,
   "id": "f2d3e589",
   "metadata": {},
   "outputs": [
    {
     "name": "stdout",
     "output_type": "stream",
     "text": [
      "1\n",
      "0\n",
      "4\n"
     ]
    }
   ],
   "source": [
    "x = 25\n",
    "print(x % 4)\n",
    "print(x % 5)\n",
    "print(x % 7)"
   ]
  },
  {
   "cell_type": "code",
   "execution_count": 4,
   "id": "59b9092a",
   "metadata": {},
   "outputs": [
    {
     "ename": "ZeroDivisionError",
     "evalue": "division by zero",
     "output_type": "error",
     "traceback": [
      "\u001b[1;31m---------------------------------------------------------------------------\u001b[0m",
      "\u001b[1;31mZeroDivisionError\u001b[0m                         Traceback (most recent call last)",
      "Cell \u001b[1;32mIn [4], line 1\u001b[0m\n\u001b[1;32m----> 1\u001b[0m \u001b[38;5;28mprint\u001b[39m(\u001b[38;5;241;43m2\u001b[39;49m\u001b[38;5;241;43m/\u001b[39;49m\u001b[38;5;241;43m0\u001b[39;49m)\n",
      "\u001b[1;31mZeroDivisionError\u001b[0m: division by zero"
     ]
    }
   ],
   "source": [
    "print(2/0)"
   ]
  },
  {
   "cell_type": "code",
   "execution_count": 5,
   "id": "04a7fcd4",
   "metadata": {},
   "outputs": [
    {
     "ename": "ZeroDivisionError",
     "evalue": "integer division or modulo by zero",
     "output_type": "error",
     "traceback": [
      "\u001b[1;31m---------------------------------------------------------------------------\u001b[0m",
      "\u001b[1;31mZeroDivisionError\u001b[0m                         Traceback (most recent call last)",
      "Cell \u001b[1;32mIn [5], line 1\u001b[0m\n\u001b[1;32m----> 1\u001b[0m \u001b[38;5;28mprint\u001b[39m(\u001b[38;5;241;43m2\u001b[39;49m\u001b[38;5;241;43m%\u001b[39;49m\u001b[38;5;241;43m0\u001b[39;49m)\n",
      "\u001b[1;31mZeroDivisionError\u001b[0m: integer division or modulo by zero"
     ]
    }
   ],
   "source": [
    "print(2%0)"
   ]
  },
  {
   "cell_type": "code",
   "execution_count": 6,
   "id": "0d663d78",
   "metadata": {},
   "outputs": [
    {
     "name": "stdout",
     "output_type": "stream",
     "text": [
      "8\n",
      "625\n",
      "1\n",
      "0.5\n"
     ]
    }
   ],
   "source": [
    "print(2**3)\n",
    "print(5**4)\n",
    "print(99**0)\n",
    "print(2**-1)"
   ]
  },
  {
   "cell_type": "code",
   "execution_count": 8,
   "id": "5973a505",
   "metadata": {},
   "outputs": [
    {
     "name": "stdout",
     "output_type": "stream",
     "text": [
      "10.666666666666666\n",
      "10\n",
      "-10.666666666666666\n",
      "-11\n"
     ]
    }
   ],
   "source": [
    "print(32/3)\n",
    "print(32//3)\n",
    "print(-32/3)\n",
    "print(-32//3)"
   ]
  },
  {
   "cell_type": "code",
   "execution_count": 9,
   "id": "8f4fde66",
   "metadata": {},
   "outputs": [
    {
     "name": "stdout",
     "output_type": "stream",
     "text": [
      "3\n",
      "5\n"
     ]
    }
   ],
   "source": [
    "a = 3\n",
    "print(a)\n",
    "b = 4 \n",
    "a = b + 1\n",
    "print(a)"
   ]
  },
  {
   "cell_type": "code",
   "execution_count": 10,
   "id": "071ca44a",
   "metadata": {},
   "outputs": [
    {
     "name": "stdout",
     "output_type": "stream",
     "text": [
      "2\n",
      "5\n"
     ]
    }
   ],
   "source": [
    "a = 2 \n",
    "print(a)\n",
    "a += 3\n",
    "print(a)"
   ]
  },
  {
   "cell_type": "code",
   "execution_count": 12,
   "id": "a200b4f3",
   "metadata": {},
   "outputs": [
    {
     "name": "stdout",
     "output_type": "stream",
     "text": [
      "54\n",
      "295\n",
      "11.8\n",
      "4\n",
      "714924299\n",
      "11\n"
     ]
    }
   ],
   "source": [
    "a = b = c = d = e = f = 59 \n",
    "a -= 5\n",
    "print(a)\n",
    "b *= 5\n",
    "print(b)\n",
    "c /= 5\n",
    "print(c)\n",
    "d %= 5 \n",
    "print(d)\n",
    "e **= 5\n",
    "print(e)\n",
    "f //= 5\n",
    "print(f)"
   ]
  },
  {
   "cell_type": "code",
   "execution_count": 13,
   "id": "77a545db",
   "metadata": {},
   "outputs": [
    {
     "name": "stdout",
     "output_type": "stream",
     "text": [
      "True\n",
      "False\n",
      "False\n",
      "False\n",
      "True\n",
      "True\n"
     ]
    }
   ],
   "source": [
    "a = 20 \n",
    "print(a == 20)\n",
    "print(a != 20)\n",
    "print(a > 20)\n",
    "print(a < 20)\n",
    "print(a >= 20)\n",
    "print(a <= 20)"
   ]
  },
  {
   "cell_type": "code",
   "execution_count": 14,
   "id": "8d32b934",
   "metadata": {},
   "outputs": [
    {
     "name": "stdout",
     "output_type": "stream",
     "text": [
      "True\n",
      "False\n",
      "False\n"
     ]
    }
   ],
   "source": [
    "p = True\n",
    "q = False\n",
    "print(p and p)\n",
    "print(p and q)\n",
    "print(q and q)"
   ]
  },
  {
   "cell_type": "code",
   "execution_count": 15,
   "id": "a9141807",
   "metadata": {},
   "outputs": [
    {
     "name": "stdout",
     "output_type": "stream",
     "text": [
      "True\n",
      "True\n",
      "False\n"
     ]
    }
   ],
   "source": [
    "p = True\n",
    "q = False\n",
    "print(p or p)\n",
    "print(p or q)\n",
    "print(q or q)"
   ]
  },
  {
   "cell_type": "code",
   "execution_count": 17,
   "id": "84d65564",
   "metadata": {},
   "outputs": [
    {
     "name": "stdout",
     "output_type": "stream",
     "text": [
      "False\n",
      "True\n"
     ]
    }
   ],
   "source": [
    "p = True\n",
    "q = False\n",
    "print(not p)\n",
    "print(not q)"
   ]
  },
  {
   "cell_type": "code",
   "execution_count": 18,
   "id": "4b0de599",
   "metadata": {},
   "outputs": [
    {
     "name": "stdout",
     "output_type": "stream",
     "text": [
      "Tell me your name: a\n",
      "False\n"
     ]
    }
   ],
   "source": [
    "username = input(\"Tell me your name: \")\n",
    "print(username == \"John\" or username == \"Jim\")"
   ]
  },
  {
   "cell_type": "code",
   "execution_count": null,
   "id": "0c72e90c",
   "metadata": {},
   "outputs": [],
   "source": []
  }
 ],
 "metadata": {
  "kernelspec": {
   "display_name": "Python 3 (ipykernel)",
   "language": "python",
   "name": "python3"
  },
  "language_info": {
   "codemirror_mode": {
    "name": "ipython",
    "version": 3
   },
   "file_extension": ".py",
   "mimetype": "text/x-python",
   "name": "python",
   "nbconvert_exporter": "python",
   "pygments_lexer": "ipython3",
   "version": "3.10.7"
  }
 },
 "nbformat": 4,
 "nbformat_minor": 5
}
