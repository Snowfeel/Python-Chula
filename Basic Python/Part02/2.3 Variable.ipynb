{
 "cells": [
  {
   "cell_type": "markdown",
   "id": "3baa61f9",
   "metadata": {},
   "source": [
    "# Variables"
   ]
  },
  {
   "cell_type": "code",
   "execution_count": 1,
   "id": "7520c58a",
   "metadata": {},
   "outputs": [
    {
     "name": "stdout",
     "output_type": "stream",
     "text": [
      "3\n",
      "5.5\n"
     ]
    }
   ],
   "source": [
    "a = 3\n",
    "b = 5.5\n",
    "print(a)\n",
    "print(b)"
   ]
  },
  {
   "cell_type": "code",
   "execution_count": 2,
   "id": "5a0a7784",
   "metadata": {},
   "outputs": [
    {
     "name": "stdout",
     "output_type": "stream",
     "text": [
      "Thananut\n",
      "Siri-ngamworakul\n"
     ]
    }
   ],
   "source": [
    "firstname = \"Thananut\"\n",
    "lastname = \"Siri-ngamworakul\"\n",
    "print(firstname)\n",
    "print(lastname)"
   ]
  },
  {
   "cell_type": "code",
   "execution_count": 3,
   "id": "f80c8078",
   "metadata": {},
   "outputs": [
    {
     "name": "stdout",
     "output_type": "stream",
     "text": [
      "True\n",
      "False\n"
     ]
    }
   ],
   "source": [
    "p = True\n",
    "q = False\n",
    "print(p)\n",
    "print(q)"
   ]
  },
  {
   "cell_type": "code",
   "execution_count": 4,
   "id": "66fd0dad",
   "metadata": {},
   "outputs": [
    {
     "name": "stdout",
     "output_type": "stream",
     "text": [
      "Hello\n",
      "Hello\n"
     ]
    }
   ],
   "source": [
    "a = b = \"Hello\"\n",
    "print(a)\n",
    "print(b)"
   ]
  },
  {
   "cell_type": "code",
   "execution_count": 5,
   "id": "a973c99d",
   "metadata": {},
   "outputs": [
    {
     "name": "stdout",
     "output_type": "stream",
     "text": [
      "Hello\n",
      "45\n",
      "True\n"
     ]
    }
   ],
   "source": [
    "a ,b , c = \"Hello\" , 45 , True\n",
    "print(a)\n",
    "print(b)\n",
    "print(c)"
   ]
  },
  {
   "cell_type": "code",
   "execution_count": 6,
   "id": "52fbf541",
   "metadata": {},
   "outputs": [
    {
     "name": "stdout",
     "output_type": "stream",
     "text": [
      "25\n",
      "30\n",
      "Hello\n"
     ]
    }
   ],
   "source": [
    "a = 25 \n",
    "print(a)\n",
    "a = 30\n",
    "print(a)\n",
    "a = \"Hello\"\n",
    "print(a)"
   ]
  },
  {
   "cell_type": "code",
   "execution_count": 7,
   "id": "aadf608c",
   "metadata": {},
   "outputs": [
    {
     "name": "stdout",
     "output_type": "stream",
     "text": [
      "50\n",
      "100\n"
     ]
    }
   ],
   "source": [
    "a = 50 \n",
    "print(a)\n",
    "b = 100\n",
    "a = b\n",
    "print(a)"
   ]
  },
  {
   "cell_type": "code",
   "execution_count": 8,
   "id": "267f759e",
   "metadata": {},
   "outputs": [
    {
     "name": "stdout",
     "output_type": "stream",
     "text": [
      "50\n",
      "<class 'int'>\n",
      "50.0\n",
      "<class 'float'>\n"
     ]
    }
   ],
   "source": [
    "a = 50\n",
    "print(a)\n",
    "print(type(a))\n",
    "b = 50.0\n",
    "a = b\n",
    "print(a)\n",
    "print(type(a))"
   ]
  },
  {
   "cell_type": "code",
   "execution_count": 9,
   "id": "57030043",
   "metadata": {},
   "outputs": [],
   "source": [
    "average = 20.0\n",
    "p5 = 50\n",
    "this_is_ok = \"OK\"\n",
    "thisIsOk = \"Yeah\"\n",
    "_height = 80\n",
    "ความสูง = 80"
   ]
  },
  {
   "cell_type": "code",
   "execution_count": 11,
   "id": "53d47a6d",
   "metadata": {},
   "outputs": [],
   "source": [
    "#average* = 20.0\n",
    "\n",
    "#5p = 5\n",
    "\n",
    "#this-is-ok = \"OK\""
   ]
  }
 ],
 "metadata": {
  "kernelspec": {
   "display_name": "Python 3 (ipykernel)",
   "language": "python",
   "name": "python3"
  },
  "language_info": {
   "codemirror_mode": {
    "name": "ipython",
    "version": 3
   },
   "file_extension": ".py",
   "mimetype": "text/x-python",
   "name": "python",
   "nbconvert_exporter": "python",
   "pygments_lexer": "ipython3",
   "version": "3.10.7"
  }
 },
 "nbformat": 4,
 "nbformat_minor": 5
}
