{
 "cells": [
  {
   "cell_type": "markdown",
   "id": "ce074748",
   "metadata": {},
   "source": [
    "# String"
   ]
  },
  {
   "cell_type": "code",
   "execution_count": 3,
   "id": "6bdbc873",
   "metadata": {},
   "outputs": [
    {
     "data": {
      "text/plain": [
       "14"
      ]
     },
     "execution_count": 3,
     "metadata": {},
     "output_type": "execute_result"
    }
   ],
   "source": [
    "s = \"  Hello COVID \"\n",
    "len(s)"
   ]
  },
  {
   "cell_type": "code",
   "execution_count": 4,
   "id": "62a5f188",
   "metadata": {},
   "outputs": [
    {
     "data": {
      "text/plain": [
       "0"
      ]
     },
     "execution_count": 4,
     "metadata": {},
     "output_type": "execute_result"
    }
   ],
   "source": [
    "len(\"\")"
   ]
  },
  {
   "cell_type": "code",
   "execution_count": 5,
   "id": "40b39c3a",
   "metadata": {},
   "outputs": [
    {
     "data": {
      "text/plain": [
       "'  hello covid '"
      ]
     },
     "execution_count": 5,
     "metadata": {},
     "output_type": "execute_result"
    }
   ],
   "source": [
    "s.lower()"
   ]
  },
  {
   "cell_type": "code",
   "execution_count": 6,
   "id": "abae6816",
   "metadata": {},
   "outputs": [
    {
     "data": {
      "text/plain": [
       "'  HELLO COVID '"
      ]
     },
     "execution_count": 6,
     "metadata": {},
     "output_type": "execute_result"
    }
   ],
   "source": [
    "s.upper()"
   ]
  },
  {
   "cell_type": "code",
   "execution_count": 7,
   "id": "24b264be",
   "metadata": {},
   "outputs": [
    {
     "data": {
      "text/plain": [
       "'Hello COVID'"
      ]
     },
     "execution_count": 7,
     "metadata": {},
     "output_type": "execute_result"
    }
   ],
   "source": [
    "s.strip()"
   ]
  },
  {
   "cell_type": "code",
   "execution_count": 8,
   "id": "0f371175",
   "metadata": {},
   "outputs": [
    {
     "data": {
      "text/plain": [
       "4"
      ]
     },
     "execution_count": 8,
     "metadata": {},
     "output_type": "execute_result"
    }
   ],
   "source": [
    "s.find('l')"
   ]
  },
  {
   "cell_type": "code",
   "execution_count": 9,
   "id": "b38a1786",
   "metadata": {},
   "outputs": [
    {
     "data": {
      "text/plain": [
       "-1"
      ]
     },
     "execution_count": 9,
     "metadata": {},
     "output_type": "execute_result"
    }
   ],
   "source": [
    "s.find('a')"
   ]
  },
  {
   "cell_type": "code",
   "execution_count": 10,
   "id": "e3d5c713",
   "metadata": {},
   "outputs": [
    {
     "data": {
      "text/plain": [
       "5"
      ]
     },
     "execution_count": 10,
     "metadata": {},
     "output_type": "execute_result"
    }
   ],
   "source": [
    "s.find('l',5)"
   ]
  },
  {
   "cell_type": "code",
   "execution_count": 11,
   "id": "4dcf1130",
   "metadata": {},
   "outputs": [
    {
     "data": {
      "text/plain": [
       "'l'"
      ]
     },
     "execution_count": 11,
     "metadata": {},
     "output_type": "execute_result"
    }
   ],
   "source": [
    "s[5]"
   ]
  },
  {
   "cell_type": "code",
   "execution_count": 12,
   "id": "78b07134",
   "metadata": {},
   "outputs": [
    {
     "data": {
      "text/plain": [
       "'O'"
      ]
     },
     "execution_count": 12,
     "metadata": {},
     "output_type": "execute_result"
    }
   ],
   "source": [
    "s[9]"
   ]
  },
  {
   "cell_type": "code",
   "execution_count": 13,
   "id": "1b3b7564",
   "metadata": {},
   "outputs": [
    {
     "data": {
      "text/plain": [
       "'  Hello COVID '"
      ]
     },
     "execution_count": 13,
     "metadata": {},
     "output_type": "execute_result"
    }
   ],
   "source": [
    "s[-1000:1000]"
   ]
  },
  {
   "cell_type": "code",
   "execution_count": 14,
   "id": "cef9e5aa",
   "metadata": {},
   "outputs": [
    {
     "data": {
      "text/plain": [
       "'Hell'"
      ]
     },
     "execution_count": 14,
     "metadata": {},
     "output_type": "execute_result"
    }
   ],
   "source": [
    "s[2:6]"
   ]
  },
  {
   "cell_type": "code",
   "execution_count": 15,
   "id": "eadd7cc4",
   "metadata": {},
   "outputs": [
    {
     "data": {
      "text/plain": [
       "'  Hello C'"
      ]
     },
     "execution_count": 15,
     "metadata": {},
     "output_type": "execute_result"
    }
   ],
   "source": [
    "s[:9]"
   ]
  },
  {
   "cell_type": "code",
   "execution_count": 17,
   "id": "c1ed79a2",
   "metadata": {},
   "outputs": [
    {
     "data": {
      "text/plain": [
       "' el OI '"
      ]
     },
     "execution_count": 17,
     "metadata": {},
     "output_type": "execute_result"
    }
   ],
   "source": [
    "s[1::2] # s[start(defualt=0):stop(defualt=end):step(defualt=1)] "
   ]
  },
  {
   "cell_type": "code",
   "execution_count": 30,
   "id": "b70ea08b",
   "metadata": {},
   "outputs": [],
   "source": [
    "text = \" Input OK \" \n",
    "strip_text = text.strip()\n",
    "upper_strip_text = strip_text.upper()\n",
    "index_of_ok = upper_strip_text.find(\"OK\")"
   ]
  },
  {
   "cell_type": "code",
   "execution_count": 31,
   "id": "25715cfd",
   "metadata": {},
   "outputs": [
    {
     "name": "stdout",
     "output_type": "stream",
     "text": [
      " Input OK \n",
      "Input OK\n",
      "INPUT OK\n",
      "6\n",
      "6\n"
     ]
    }
   ],
   "source": [
    "print(text)\n",
    "print(strip_text)\n",
    "print(upper_strip_text)\n",
    "print(index_of_ok)\n",
    "\n",
    "print(text.strip().upper().find(\"OK\"))"
   ]
  },
  {
   "cell_type": "code",
   "execution_count": 32,
   "id": "15a1e251",
   "metadata": {},
   "outputs": [
    {
     "data": {
      "text/plain": [
       "' Hello C'"
      ]
     },
     "execution_count": 32,
     "metadata": {},
     "output_type": "execute_result"
    }
   ],
   "source": [
    "s[1:-5]"
   ]
  },
  {
   "cell_type": "code",
   "execution_count": null,
   "id": "9b0ebf66",
   "metadata": {},
   "outputs": [],
   "source": []
  }
 ],
 "metadata": {
  "kernelspec": {
   "display_name": "Python 3 (ipykernel)",
   "language": "python",
   "name": "python3"
  },
  "language_info": {
   "codemirror_mode": {
    "name": "ipython",
    "version": 3
   },
   "file_extension": ".py",
   "mimetype": "text/x-python",
   "name": "python",
   "nbconvert_exporter": "python",
   "pygments_lexer": "ipython3",
   "version": "3.10.7"
  }
 },
 "nbformat": 4,
 "nbformat_minor": 5
}
