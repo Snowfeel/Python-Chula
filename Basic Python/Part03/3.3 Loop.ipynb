{
 "cells": [
  {
   "cell_type": "markdown",
   "id": "f76cf175",
   "metadata": {},
   "source": [
    "# Loop"
   ]
  },
  {
   "cell_type": "code",
   "execution_count": 2,
   "id": "e5700a9f",
   "metadata": {},
   "outputs": [
    {
     "name": "stdout",
     "output_type": "stream",
     "text": [
      "บางระจัน\n",
      "บางระจัน\n",
      "บางระจัน\n"
     ]
    }
   ],
   "source": [
    "s = \"บางระจัน\"\n",
    "n = 0\n",
    "while n < 3:\n",
    "    print(s)\n",
    "    n+=1"
   ]
  },
  {
   "cell_type": "code",
   "execution_count": 11,
   "id": "ec49c52b",
   "metadata": {},
   "outputs": [
    {
     "name": "stdout",
     "output_type": "stream",
     "text": [
      "Input:10\n",
      "Input:20\n",
      "Input:30\n",
      "Input:40\n",
      "Input:50\n",
      "Input:33.5\n",
      "Input:stop\n",
      "50.0\n"
     ]
    }
   ],
   "source": [
    "e = input(\"Input:\")\n",
    "max = 0;\n",
    "while e != \"stop\":\n",
    "    if float(e) > max:\n",
    "        max = float(e)\n",
    "    e = input(\"Input:\")\n",
    "    \n",
    "print(max)"
   ]
  },
  {
   "cell_type": "code",
   "execution_count": 13,
   "id": "f0e63600",
   "metadata": {},
   "outputs": [
    {
     "name": "stdout",
     "output_type": "stream",
     "text": [
      "20\n",
      "210\n"
     ]
    }
   ],
   "source": [
    "n = int(input())\n",
    "s = 0\n",
    "for i in range(n+1):\n",
    "    s+=i\n",
    "print(s)"
   ]
  },
  {
   "cell_type": "code",
   "execution_count": 14,
   "id": "5c1363eb",
   "metadata": {},
   "outputs": [
    {
     "name": "stdout",
     "output_type": "stream",
     "text": [
      "25\n"
     ]
    }
   ],
   "source": [
    "message = \"5555555555555555555ถถถถถถถ4ถ4ถ4ถ6ถ6ถ5ถ65ถ6ถ54ถ46ถ54ถ65ถ46ถ54ถถ6ถ4ถถถถ\"\n",
    "n = 0\n",
    "for charactor in message:\n",
    "    if charactor == \"5\" :\n",
    "        n+=1\n",
    "\n",
    "print(n)"
   ]
  },
  {
   "cell_type": "code",
   "execution_count": 17,
   "id": "6c6bfe95",
   "metadata": {},
   "outputs": [
    {
     "name": "stdout",
     "output_type": "stream",
     "text": [
      "ร้านที่ 1 ที่ชอบคือ KFA\n",
      "ร้านที่ 2 ที่ชอบคือ NK\n",
      "ร้านที่ 3 ที่ชอบคือ Bon Zhon\n",
      "ร้านที่ 4 ที่ชอบคือ Zubway\n",
      "ร้านที่ 5 ที่ชอบคือ Burger Queen\n",
      "ร้านที่ 6 ที่ชอบคือ The Pizza Hat\n",
      "ร้านที่ 7 ที่ชอบคือ Sevenzen\n",
      "ร้านที่ 8 ที่ชอบคือ StarBug\n"
     ]
    }
   ],
   "source": [
    "res_list = [\"KFA\",\"NK\",\"Bon Zhon\",\"Zubway\",\"Burger Queen\",\"The Pizza Hat\",\"Sevenzen\",\"StarBug\"]\n",
    "i = 1\n",
    "for res in res_list:\n",
    "    print(\"ร้านที่\", i, \"ที่ชอบคือ\", res)\n",
    "    i+=1"
   ]
  },
  {
   "cell_type": "code",
   "execution_count": 19,
   "id": "e89fe0a2",
   "metadata": {},
   "outputs": [
    {
     "name": "stdout",
     "output_type": "stream",
     "text": [
      "a\n",
      "Ordered a\n",
      "b\n",
      "Ordered b\n",
      "c\n",
      "Ordered c\n",
      "e\n",
      "Ordered e\n",
      "d\n",
      "Ordered d\n",
      "Done\n"
     ]
    }
   ],
   "source": [
    "n = 0\n",
    "while n < 5:\n",
    "    menu = input()\n",
    "    if menu == \"stop\":\n",
    "        break\n",
    "    print(\"Ordered\", menu)\n",
    "    n+=1\n",
    "\n",
    "print(\"Done\")"
   ]
  },
  {
   "cell_type": "code",
   "execution_count": null,
   "id": "7ed38f6e",
   "metadata": {},
   "outputs": [],
   "source": []
  }
 ],
 "metadata": {
  "kernelspec": {
   "display_name": "Python 3 (ipykernel)",
   "language": "python",
   "name": "python3"
  },
  "language_info": {
   "codemirror_mode": {
    "name": "ipython",
    "version": 3
   },
   "file_extension": ".py",
   "mimetype": "text/x-python",
   "name": "python",
   "nbconvert_exporter": "python",
   "pygments_lexer": "ipython3",
   "version": "3.10.7"
  }
 },
 "nbformat": 4,
 "nbformat_minor": 5
}
