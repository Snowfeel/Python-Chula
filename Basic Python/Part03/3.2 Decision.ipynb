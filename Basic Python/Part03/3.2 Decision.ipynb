{
 "cells": [
  {
   "cell_type": "markdown",
   "id": "f095e75e",
   "metadata": {},
   "source": [
    "# Decision"
   ]
  },
  {
   "cell_type": "code",
   "execution_count": 2,
   "id": "3a9f9fa7",
   "metadata": {},
   "outputs": [
    {
     "data": {
      "text/plain": [
       "True"
      ]
     },
     "execution_count": 2,
     "metadata": {},
     "output_type": "execute_result"
    }
   ],
   "source": [
    "x = 1 \n",
    "x == 1"
   ]
  },
  {
   "cell_type": "code",
   "execution_count": 3,
   "id": "6b01d428",
   "metadata": {},
   "outputs": [
    {
     "data": {
      "text/plain": [
       "False"
      ]
     },
     "execution_count": 3,
     "metadata": {},
     "output_type": "execute_result"
    }
   ],
   "source": [
    "x != 1"
   ]
  },
  {
   "cell_type": "code",
   "execution_count": 4,
   "id": "ce81a082",
   "metadata": {},
   "outputs": [
    {
     "data": {
      "text/plain": [
       "True"
      ]
     },
     "execution_count": 4,
     "metadata": {},
     "output_type": "execute_result"
    }
   ],
   "source": [
    "x == 1 and x >= 1"
   ]
  },
  {
   "cell_type": "code",
   "execution_count": 5,
   "id": "74e42009",
   "metadata": {},
   "outputs": [
    {
     "data": {
      "text/plain": [
       "False"
      ]
     },
     "execution_count": 5,
     "metadata": {},
     "output_type": "execute_result"
    }
   ],
   "source": [
    "not x == 1"
   ]
  },
  {
   "cell_type": "code",
   "execution_count": 6,
   "id": "8921f561",
   "metadata": {},
   "outputs": [
    {
     "data": {
      "text/plain": [
       "True"
      ]
     },
     "execution_count": 6,
     "metadata": {},
     "output_type": "execute_result"
    }
   ],
   "source": [
    "x == 1 or x == 2 "
   ]
  },
  {
   "cell_type": "code",
   "execution_count": 10,
   "id": "8b293386",
   "metadata": {},
   "outputs": [
    {
     "name": "stdout",
     "output_type": "stream",
     "text": [
      "Pass\n",
      "Good Bye\n"
     ]
    }
   ],
   "source": [
    "score = 70\n",
    "if float(score) >= 50:\n",
    "    print(\"Pass\")\n",
    "else: \n",
    "    print(\"Not Pass\")\n",
    "\n",
    "print(\"Good Bye\")"
   ]
  },
  {
   "cell_type": "code",
   "execution_count": 12,
   "id": "dab41126",
   "metadata": {},
   "outputs": [
    {
     "name": "stdout",
     "output_type": "stream",
     "text": [
      "random(0-4)?no\n",
      "No problem\n"
     ]
    }
   ],
   "source": [
    "from random import randint\n",
    "answer = input(\"random(0-4)?\")\n",
    "if answer == \"yes\" :\n",
    "    number = randint(0,4)\n",
    "    if number == 0:\n",
    "        print(\"0\")\n",
    "    elif number == 1:\n",
    "        print(\"1\")\n",
    "    elif number == 2:\n",
    "        print(\"2\")\n",
    "    elif number == 3:\n",
    "        print(\"3\")\n",
    "    elif number == 4:\n",
    "        print(\"4\")\n",
    "else :\n",
    "    print(\"No problem\")"
   ]
  },
  {
   "cell_type": "code",
   "execution_count": null,
   "id": "0ea14a48",
   "metadata": {},
   "outputs": [],
   "source": []
  }
 ],
 "metadata": {
  "kernelspec": {
   "display_name": "Python 3 (ipykernel)",
   "language": "python",
   "name": "python3"
  },
  "language_info": {
   "codemirror_mode": {
    "name": "ipython",
    "version": 3
   },
   "file_extension": ".py",
   "mimetype": "text/x-python",
   "name": "python",
   "nbconvert_exporter": "python",
   "pygments_lexer": "ipython3",
   "version": "3.10.7"
  }
 },
 "nbformat": 4,
 "nbformat_minor": 5
}
