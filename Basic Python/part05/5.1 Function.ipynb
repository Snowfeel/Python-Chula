{
 "cells": [
  {
   "cell_type": "markdown",
   "id": "2dad7e9c",
   "metadata": {},
   "source": [
    "# Function"
   ]
  },
  {
   "cell_type": "code",
   "execution_count": 1,
   "id": "7c28ee02",
   "metadata": {},
   "outputs": [
    {
     "name": "stdout",
     "output_type": "stream",
     "text": [
      "10\n"
     ]
    }
   ],
   "source": [
    "a = abs(-10)\n",
    "print(a)"
   ]
  },
  {
   "cell_type": "code",
   "execution_count": 2,
   "id": "38ffe399",
   "metadata": {},
   "outputs": [
    {
     "name": "stdout",
     "output_type": "stream",
     "text": [
      "400\n"
     ]
    }
   ],
   "source": [
    "b = input()"
   ]
  },
  {
   "cell_type": "code",
   "execution_count": 3,
   "id": "b4ee17b2",
   "metadata": {},
   "outputs": [
    {
     "name": "stdout",
     "output_type": "stream",
     "text": [
      "400\n"
     ]
    }
   ],
   "source": [
    "print(b)"
   ]
  },
  {
   "cell_type": "code",
   "execution_count": 4,
   "id": "71a686ac",
   "metadata": {},
   "outputs": [],
   "source": [
    "def foo():\n",
    "    print('Hello')"
   ]
  },
  {
   "cell_type": "code",
   "execution_count": 5,
   "id": "7120e70f",
   "metadata": {},
   "outputs": [
    {
     "name": "stdout",
     "output_type": "stream",
     "text": [
      "Hello\n"
     ]
    }
   ],
   "source": [
    "foo()"
   ]
  },
  {
   "cell_type": "code",
   "execution_count": 6,
   "id": "917b6a81",
   "metadata": {},
   "outputs": [
    {
     "data": {
      "text/plain": [
       "function"
      ]
     },
     "execution_count": 6,
     "metadata": {},
     "output_type": "execute_result"
    }
   ],
   "source": [
    "type(foo)"
   ]
  },
  {
   "cell_type": "code",
   "execution_count": 7,
   "id": "c9223186",
   "metadata": {},
   "outputs": [
    {
     "name": "stdout",
     "output_type": "stream",
     "text": [
      "<function foo at 0x000001D97CB993F0>\n"
     ]
    }
   ],
   "source": [
    "print(foo)"
   ]
  },
  {
   "cell_type": "code",
   "execution_count": 8,
   "id": "ec9d1ebd",
   "metadata": {},
   "outputs": [],
   "source": [
    "def foo(name):\n",
    "    print(f\"Hi my name is {name}\")"
   ]
  },
  {
   "cell_type": "code",
   "execution_count": 9,
   "id": "cda2fe90",
   "metadata": {},
   "outputs": [
    {
     "name": "stdout",
     "output_type": "stream",
     "text": [
      "Hi my name is Big\n"
     ]
    }
   ],
   "source": [
    "foo('Big')"
   ]
  },
  {
   "cell_type": "code",
   "execution_count": 10,
   "id": "0523b88a",
   "metadata": {},
   "outputs": [],
   "source": [
    "def foo(first_name,nick_name):\n",
    "    print(f'Hi my name is {first_name},You can call me {nick_name}')"
   ]
  },
  {
   "cell_type": "code",
   "execution_count": 11,
   "id": "3ab28fd9",
   "metadata": {},
   "outputs": [
    {
     "name": "stdout",
     "output_type": "stream",
     "text": [
      "Hi my name is Thananut,You can call me Big\n"
     ]
    }
   ],
   "source": [
    "foo ('Thananut','Big')"
   ]
  },
  {
   "cell_type": "code",
   "execution_count": 12,
   "id": "a65d9854",
   "metadata": {},
   "outputs": [
    {
     "name": "stdout",
     "output_type": "stream",
     "text": [
      "Hi my name is Thananut,You can call me Big\n"
     ]
    }
   ],
   "source": [
    "foo(nick_name='Big',first_name='Thananut')"
   ]
  },
  {
   "cell_type": "code",
   "execution_count": 13,
   "id": "17f9b3de",
   "metadata": {},
   "outputs": [],
   "source": [
    "def foo(first_name,nick_name = 'Foo'):\n",
    "    print(f'Hi my name is {first_name},You can call me {nick_name}')"
   ]
  },
  {
   "cell_type": "code",
   "execution_count": 14,
   "id": "922f78bb",
   "metadata": {},
   "outputs": [
    {
     "name": "stdout",
     "output_type": "stream",
     "text": [
      "Hi my name is Big,You can call me Foo\n"
     ]
    }
   ],
   "source": [
    "foo('Big')"
   ]
  },
  {
   "cell_type": "code",
   "execution_count": 15,
   "id": "8a14025a",
   "metadata": {},
   "outputs": [],
   "source": [
    "def my_multiply(a,b):\n",
    "    return a*b"
   ]
  },
  {
   "cell_type": "code",
   "execution_count": 16,
   "id": "9e665ccc",
   "metadata": {},
   "outputs": [
    {
     "data": {
      "text/plain": [
       "6"
      ]
     },
     "execution_count": 16,
     "metadata": {},
     "output_type": "execute_result"
    }
   ],
   "source": [
    "my_multiply(2,3)"
   ]
  },
  {
   "cell_type": "code",
   "execution_count": 17,
   "id": "0e68d474",
   "metadata": {},
   "outputs": [],
   "source": [
    "def my_multiply(*args):\n",
    "    result = 1\n",
    "    for n in args:\n",
    "        result *= n\n",
    "    return result"
   ]
  },
  {
   "cell_type": "code",
   "execution_count": 18,
   "id": "61cf8f0f",
   "metadata": {},
   "outputs": [
    {
     "data": {
      "text/plain": [
       "720"
      ]
     },
     "execution_count": 18,
     "metadata": {},
     "output_type": "execute_result"
    }
   ],
   "source": [
    "my_multiply(2,3,4,5,6)"
   ]
  },
  {
   "cell_type": "code",
   "execution_count": 19,
   "id": "96de2e84",
   "metadata": {},
   "outputs": [
    {
     "name": "stdout",
     "output_type": "stream",
     "text": [
      "1\n",
      "1 2 3\n"
     ]
    }
   ],
   "source": [
    "print(1)\n",
    "print(1,2,3)"
   ]
  },
  {
   "cell_type": "code",
   "execution_count": 20,
   "id": "c96bf841",
   "metadata": {},
   "outputs": [],
   "source": [
    "def avg (n,*other):\n",
    "    return (n+sum(other))/ (1 +len(other))"
   ]
  },
  {
   "cell_type": "code",
   "execution_count": 21,
   "id": "0450c9c9",
   "metadata": {},
   "outputs": [
    {
     "data": {
      "text/plain": [
       "3.0"
      ]
     },
     "execution_count": 21,
     "metadata": {},
     "output_type": "execute_result"
    }
   ],
   "source": [
    "avg(3)"
   ]
  },
  {
   "cell_type": "code",
   "execution_count": 22,
   "id": "76927824",
   "metadata": {},
   "outputs": [
    {
     "data": {
      "text/plain": [
       "4.5"
      ]
     },
     "execution_count": 22,
     "metadata": {},
     "output_type": "execute_result"
    }
   ],
   "source": [
    "avg(3,4,5,6)"
   ]
  },
  {
   "cell_type": "code",
   "execution_count": 28,
   "id": "82744fb7",
   "metadata": {},
   "outputs": [],
   "source": [
    "def greeting(fname, **kwargs):\n",
    "    \n",
    "    title = lname = nname = ''\n",
    "    for k, v in kwargs.items():\n",
    "        \n",
    "        if k == 'gender' and v == 'male' : title = 'Mr.'\n",
    "        elif k == 'gender' and v == 'female' : title = 'Ms.'\n",
    "            \n",
    "        if k == 'last_name' : lname = v\n",
    "        \n",
    "        if k == 'nick_name' : nname = ' ('+v+')'\n",
    "    \n",
    "    return 'Hello ' + title + fname + ' ' + lname + nname"
   ]
  },
  {
   "cell_type": "code",
   "execution_count": 29,
   "id": "6aeeb9f1",
   "metadata": {},
   "outputs": [
    {
     "data": {
      "text/plain": [
       "'Hello Thananut '"
      ]
     },
     "execution_count": 29,
     "metadata": {},
     "output_type": "execute_result"
    }
   ],
   "source": [
    "greeting('Thananut')"
   ]
  },
  {
   "cell_type": "code",
   "execution_count": 30,
   "id": "32c8ff73",
   "metadata": {},
   "outputs": [
    {
     "data": {
      "text/plain": [
       "'Hello Thananut  (Big)'"
      ]
     },
     "execution_count": 30,
     "metadata": {},
     "output_type": "execute_result"
    }
   ],
   "source": [
    "greeting('Thananut',nick_name = 'Big')"
   ]
  },
  {
   "cell_type": "code",
   "execution_count": 31,
   "id": "4654af7e",
   "metadata": {},
   "outputs": [
    {
     "data": {
      "text/plain": [
       "'Hello Thananut Siri-ngmaworakul (Big)'"
      ]
     },
     "execution_count": 31,
     "metadata": {},
     "output_type": "execute_result"
    }
   ],
   "source": [
    "greeting('Thananut',nick_name = 'Big', last_name = 'Siri-ngmaworakul')"
   ]
  },
  {
   "cell_type": "code",
   "execution_count": 32,
   "id": "9baf7d1f",
   "metadata": {},
   "outputs": [
    {
     "data": {
      "text/plain": [
       "'Hello Mr.Thananut Siri-ngmaworakul (Big)'"
      ]
     },
     "execution_count": 32,
     "metadata": {},
     "output_type": "execute_result"
    }
   ],
   "source": [
    "greeting('Thananut',nick_name = 'Big', last_name = 'Siri-ngmaworakul',gender = 'male')"
   ]
  },
  {
   "cell_type": "code",
   "execution_count": null,
   "id": "0e231645",
   "metadata": {},
   "outputs": [],
   "source": []
  }
 ],
 "metadata": {
  "kernelspec": {
   "display_name": "Python 3 (ipykernel)",
   "language": "python",
   "name": "python3"
  },
  "language_info": {
   "codemirror_mode": {
    "name": "ipython",
    "version": 3
   },
   "file_extension": ".py",
   "mimetype": "text/x-python",
   "name": "python",
   "nbconvert_exporter": "python",
   "pygments_lexer": "ipython3",
   "version": "3.10.7"
  }
 },
 "nbformat": 4,
 "nbformat_minor": 5
}
