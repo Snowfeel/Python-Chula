{
 "cells": [
  {
   "cell_type": "markdown",
   "id": "1204b397",
   "metadata": {},
   "source": [
    "# Lambda Function\n",
    "- one-time use\n",
    "- in-line/embedded function"
   ]
  },
  {
   "cell_type": "code",
   "execution_count": 2,
   "id": "e12b770e",
   "metadata": {},
   "outputs": [
    {
     "name": "stdout",
     "output_type": "stream",
     "text": [
      "Hi Dave, how are you doing?\n"
     ]
    }
   ],
   "source": [
    "def say_hi(name):\n",
    "    print('Hi',name + ', how are you doing?')\n",
    "    \n",
    "say_hi('Dave')"
   ]
  },
  {
   "cell_type": "code",
   "execution_count": 4,
   "id": "4ba1e87e",
   "metadata": {},
   "outputs": [
    {
     "name": "stdout",
     "output_type": "stream",
     "text": [
      "Hi Dave, how are you doing?\n"
     ]
    }
   ],
   "source": [
    "(lambda name: print('Hi',name + ', how are you doing?'))('Dave')"
   ]
  },
  {
   "cell_type": "code",
   "execution_count": 5,
   "id": "2106aeac",
   "metadata": {},
   "outputs": [
    {
     "name": "stdout",
     "output_type": "stream",
     "text": [
      "Hi Dave, how are you doing?\n"
     ]
    }
   ],
   "source": [
    "lamda_say_hi = lambda name: print('Hi',name + ', how are you doing?')\n",
    "lamda_say_hi('Dave')"
   ]
  },
  {
   "cell_type": "code",
   "execution_count": 6,
   "id": "d5ecb04b",
   "metadata": {},
   "outputs": [
    {
     "data": {
      "text/plain": [
       "[2, 12, 30]"
      ]
     },
     "execution_count": 6,
     "metadata": {},
     "output_type": "execute_result"
    }
   ],
   "source": [
    "rects = [(1,2),(3,4),(5,6)]\n",
    "list(map(lambda x: x[0]*x[1],rects))"
   ]
  },
  {
   "cell_type": "code",
   "execution_count": 8,
   "id": "7f96d14f",
   "metadata": {},
   "outputs": [
    {
     "data": {
      "text/plain": [
       "[2, 12, 30]"
      ]
     },
     "execution_count": 8,
     "metadata": {},
     "output_type": "execute_result"
    }
   ],
   "source": [
    "def get_rect_area(x):\n",
    "    return x[0]*x[1]\n",
    "\n",
    "list(map(get_rect_area,rects))"
   ]
  },
  {
   "cell_type": "code",
   "execution_count": 9,
   "id": "1c919aeb",
   "metadata": {},
   "outputs": [
    {
     "data": {
      "text/plain": [
       "15"
      ]
     },
     "execution_count": 9,
     "metadata": {},
     "output_type": "execute_result"
    }
   ],
   "source": [
    "from functools import reduce\n",
    "\n",
    "reduce(lambda x,y: x + y,[1,2,3,4,5])"
   ]
  },
  {
   "cell_type": "code",
   "execution_count": 12,
   "id": "25bb45b1",
   "metadata": {},
   "outputs": [
    {
     "data": {
      "text/plain": [
       "['Nick', 'Mike']"
      ]
     },
     "execution_count": 12,
     "metadata": {},
     "output_type": "execute_result"
    }
   ],
   "source": [
    "names = ['Dave','Nick','Tom','Mike']\n",
    "list(filter(lambda s:s[0] in ['M','N'],names))"
   ]
  },
  {
   "cell_type": "code",
   "execution_count": 14,
   "id": "17ea0679",
   "metadata": {},
   "outputs": [
    {
     "name": "stdout",
     "output_type": "stream",
     "text": [
      "[2, 12, 30]\n",
      "[2, 12, 30]\n"
     ]
    }
   ],
   "source": [
    "rects = [(1,2),(3,4),(5,6)]\n",
    "\n",
    "# Lambda\n",
    "print(list(map(lambda x: x[0]*x[1],rects)))\n",
    "\n",
    "# List comprehention\n",
    "print([x[0]*x[1] for x in rects])"
   ]
  },
  {
   "cell_type": "code",
   "execution_count": 15,
   "id": "4214a3b2",
   "metadata": {},
   "outputs": [
    {
     "name": "stdout",
     "output_type": "stream",
     "text": [
      "15\n",
      "15\n"
     ]
    }
   ],
   "source": [
    "seq = [1,2,3,4,5]\n",
    "\n",
    "# Lambda\n",
    "print(reduce(lambda x,y: x + y,[1,2,3,4,5]))\n",
    "\n",
    "# List comprehention\n",
    "print(sum(seq))"
   ]
  },
  {
   "cell_type": "code",
   "execution_count": 18,
   "id": "d7d08f67",
   "metadata": {},
   "outputs": [
    {
     "name": "stdout",
     "output_type": "stream",
     "text": [
      "['Nick', 'Mike']\n",
      "['Nick', 'Mike']\n"
     ]
    }
   ],
   "source": [
    "names = ['Dave','Nick','Tom','Mike']\n",
    "\n",
    "# Lambda\n",
    "print(list(filter(lambda s:s[0] in ['M','N'],names)))\n",
    "\n",
    "# List comprehention\n",
    "print([x for x in names if x[0] in ['M','N']])"
   ]
  },
  {
   "cell_type": "code",
   "execution_count": null,
   "id": "1224ac0e",
   "metadata": {},
   "outputs": [],
   "source": []
  }
 ],
 "metadata": {
  "kernelspec": {
   "display_name": "Python 3 (ipykernel)",
   "language": "python",
   "name": "python3"
  },
  "language_info": {
   "codemirror_mode": {
    "name": "ipython",
    "version": 3
   },
   "file_extension": ".py",
   "mimetype": "text/x-python",
   "name": "python",
   "nbconvert_exporter": "python",
   "pygments_lexer": "ipython3",
   "version": "3.10.7"
  }
 },
 "nbformat": 4,
 "nbformat_minor": 5
}
