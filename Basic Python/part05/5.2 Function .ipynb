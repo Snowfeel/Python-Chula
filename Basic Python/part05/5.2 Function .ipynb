{
 "cells": [
  {
   "cell_type": "markdown",
   "id": "4bbc905e",
   "metadata": {},
   "source": [
    "# Function"
   ]
  },
  {
   "cell_type": "code",
   "execution_count": 1,
   "id": "c08f8f9a",
   "metadata": {},
   "outputs": [],
   "source": [
    "import math\n",
    "\n",
    "def compute_circle(r):\n",
    "    area = math.pi*r*r\n",
    "    cir = 2*math.pi*r\n",
    "    return area,cir"
   ]
  },
  {
   "cell_type": "code",
   "execution_count": 2,
   "id": "a749681d",
   "metadata": {},
   "outputs": [
    {
     "data": {
      "text/plain": [
       "(3.141592653589793, 6.283185307179586)"
      ]
     },
     "execution_count": 2,
     "metadata": {},
     "output_type": "execute_result"
    }
   ],
   "source": [
    "compute_circle(1)"
   ]
  },
  {
   "cell_type": "code",
   "execution_count": 3,
   "id": "d16eeb83",
   "metadata": {},
   "outputs": [
    {
     "name": "stdout",
     "output_type": "stream",
     "text": [
      "<class 'tuple'>\n"
     ]
    }
   ],
   "source": [
    "print(type(compute_circle(1)))"
   ]
  },
  {
   "cell_type": "code",
   "execution_count": 4,
   "id": "3a4e4ba0",
   "metadata": {},
   "outputs": [
    {
     "name": "stdout",
     "output_type": "stream",
     "text": [
      "12.566370614359172\n",
      "12.566370614359172\n"
     ]
    }
   ],
   "source": [
    "area,circum = compute_circle(2)\n",
    "print(area)\n",
    "print(circum)"
   ]
  },
  {
   "cell_type": "code",
   "execution_count": 7,
   "id": "7ef57311",
   "metadata": {},
   "outputs": [
    {
     "name": "stdout",
     "output_type": "stream",
     "text": [
      "0 0 1\n",
      "in function 3.141592653589793 6.283185307179586\n",
      "3.141592653589793 6.283185307179586\n",
      "0 0 1\n"
     ]
    }
   ],
   "source": [
    "def compute_circle(r):\n",
    "    area = math.pi*r*r\n",
    "    cir = 2*math.pi*r\n",
    "    print('in function',area,cir)\n",
    "    return area,cir\n",
    "area = 0\n",
    "cir = 0\n",
    "r =1\n",
    "print(area,cir,r)\n",
    "\n",
    "a,b = compute_circle(r)\n",
    "print(a,b)\n",
    "print(area,cir,r)"
   ]
  },
  {
   "cell_type": "code",
   "execution_count": 11,
   "id": "cf3e4efe",
   "metadata": {},
   "outputs": [],
   "source": [
    "def abs_numbers(numbers):\n",
    "    for i in range(len(numbers)):\n",
    "        if numbers[i]<0:\n",
    "            numbers[i] = abs(numbers[i])"
   ]
  },
  {
   "cell_type": "code",
   "execution_count": 12,
   "id": "3af2fabd",
   "metadata": {},
   "outputs": [],
   "source": [
    "a = [0,-1,-2,3,4,-5]"
   ]
  },
  {
   "cell_type": "code",
   "execution_count": 13,
   "id": "3ec7e05e",
   "metadata": {},
   "outputs": [
    {
     "name": "stdout",
     "output_type": "stream",
     "text": [
      "[0, 1, 2, 3, 4, 5]\n"
     ]
    }
   ],
   "source": [
    "abs_numbers(a)\n",
    "print(a)"
   ]
  },
  {
   "cell_type": "code",
   "execution_count": 14,
   "id": "6ccc7fa3",
   "metadata": {},
   "outputs": [
    {
     "name": "stdout",
     "output_type": "stream",
     "text": [
      "x1=1\n",
      "y1=1\n",
      "r1=1\n",
      "x2=2\n",
      "y2=2\n",
      "r2=2\n",
      "1.4142135623730951\n",
      "overlap\n"
     ]
    }
   ],
   "source": [
    "x1 = int(input('x1='))\n",
    "y1 = int(input('y1='))\n",
    "r1 = int(input('r1='))\n",
    "\n",
    "x2 = int(input('x2='))\n",
    "y2 = int(input('y2='))\n",
    "r2 = int(input('r2='))\n",
    "\n",
    "dist = ((x1-x2)**2 + (y1-y2)**2)**0.5\n",
    "print(dist)\n",
    "\n",
    "if dist > r1 + r2:\n",
    "    print('no overlap')\n",
    "else:\n",
    "    print('overlap')"
   ]
  },
  {
   "cell_type": "code",
   "execution_count": 15,
   "id": "982f0126",
   "metadata": {},
   "outputs": [
    {
     "name": "stdout",
     "output_type": "stream",
     "text": [
      "x1=1\n",
      "y1=1\n",
      "r1=1\n",
      "x2=2\n",
      "y2=2\n",
      "r2=2\n",
      "x3=3\n",
      "y3=3\n",
      "r3=3\n",
      "1.4142135623730951\n",
      "1.4142135623730951\n",
      "1.4142135623730951\n",
      "12overlap\n",
      "13overlap\n",
      "23overlap\n"
     ]
    }
   ],
   "source": [
    "x1 = int(input('x1='))\n",
    "y1 = int(input('y1='))\n",
    "r1 = int(input('r1='))\n",
    "\n",
    "x2 = int(input('x2='))\n",
    "y2 = int(input('y2='))\n",
    "r2 = int(input('r2='))\n",
    "\n",
    "x3 = int(input('x3='))\n",
    "y3 = int(input('y3='))\n",
    "r3 = int(input('r3='))\n",
    "\n",
    "dist12 = ((x1-x2)**2 + (y1-y2)**2)**0.5\n",
    "print(dist)\n",
    "\n",
    "dist13 = ((x1-x3)**2 + (y1-y3)**2)**0.5\n",
    "print(dist)\n",
    "3\n",
    "dist23 = ((x3-x2)**2 + (y3-y2)**2)**0.5\n",
    "print(dist)\n",
    "\n",
    "if dist > r1 + r2:\n",
    "    print('12no overlap')\n",
    "else:\n",
    "    print('12overlap')\n",
    "    \n",
    "if dist > r1 + r3:\n",
    "    print('13no overlap')\n",
    "else:\n",
    "    print('13overlap')\n",
    "    \n",
    "if dist > r2 + r3:\n",
    "    print('23no overlap')\n",
    "else:\n",
    "    print('23overlap')\n",
    "    "
   ]
  },
  {
   "cell_type": "code",
   "execution_count": 16,
   "id": "a4cf4c48",
   "metadata": {},
   "outputs": [
    {
     "name": "stdout",
     "output_type": "stream",
     "text": [
      "x = 0\n",
      "y = 0\n",
      "r = 1\n",
      "x = 1\n",
      "y = 1\n",
      "r = 1\n",
      "x = 2\n",
      "y = 2\n",
      "r = 2\n",
      "12overlap\n",
      "13overlap\n",
      "23overlap\n"
     ]
    }
   ],
   "source": [
    "def get_circle():\n",
    "    x = int(input('x = '))\n",
    "    y = int(input('y = '))\n",
    "    r = int(input('r = '))\n",
    "    return ((x,y),r)\n",
    "\n",
    "def distance(p1,p2):\n",
    "    return ((p1[0]-p2[0])**2 + (p1[1]-p2[1])**2)**0.5\n",
    "\n",
    "def is_overlap(c1,c2):\n",
    "    dist = distance(c1[0],c2[0])\n",
    "    if (dist > (c1[1]+c2[1])):\n",
    "        return 'no overlap'\n",
    "    elif dist == c1[1]+c2[1]:\n",
    "        return 'touch'\n",
    "    else:\n",
    "        return 'overlap'\n",
    "    \n",
    "c1 = get_circle()\n",
    "c2 = get_circle()\n",
    "c3 = get_circle()\n",
    "\n",
    "print('12' + is_overlap(c1,c2))\n",
    "print('13' + is_overlap(c1,c3))\n",
    "print('23' + is_overlap(c2,c3))"
   ]
  },
  {
   "cell_type": "code",
   "execution_count": null,
   "id": "273c9996",
   "metadata": {},
   "outputs": [],
   "source": []
  }
 ],
 "metadata": {
  "kernelspec": {
   "display_name": "Python 3 (ipykernel)",
   "language": "python",
   "name": "python3"
  },
  "language_info": {
   "codemirror_mode": {
    "name": "ipython",
    "version": 3
   },
   "file_extension": ".py",
   "mimetype": "text/x-python",
   "name": "python",
   "nbconvert_exporter": "python",
   "pygments_lexer": "ipython3",
   "version": "3.10.7"
  }
 },
 "nbformat": 4,
 "nbformat_minor": 5
}
