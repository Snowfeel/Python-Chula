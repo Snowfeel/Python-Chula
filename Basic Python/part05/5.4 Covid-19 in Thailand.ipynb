{
 "cells": [
  {
   "cell_type": "markdown",
   "id": "98628903",
   "metadata": {},
   "source": [
    "# Covid-19 in Thailand"
   ]
  },
  {
   "cell_type": "code",
   "execution_count": 13,
   "id": "76cd454d",
   "metadata": {},
   "outputs": [],
   "source": [
    "#read data\n",
    "\n",
    "def read_data(file_name):\n",
    "    with open(file_name,mode = 'r',encoding = 'utf-8-sig') as f:\n",
    "        data = f.readlines()\n",
    "    return data"
   ]
  },
  {
   "cell_type": "code",
   "execution_count": 23,
   "id": "5d16d952",
   "metadata": {},
   "outputs": [],
   "source": [
    "#transform data\n",
    "\n",
    "def transform_data(data,keys):\n",
    "    cases = list()\n",
    "    case = dict()\n",
    "    \n",
    "    for item in data:\n",
    "        record = item.strip().split(',')\n",
    "        \n",
    "        for i in range(len(keys)):\n",
    "            case[keys[i]] = record[i]\n",
    "            \n",
    "        cases.append(case)\n",
    "        case = dict()\n",
    "    \n",
    "    return cases"
   ]
  },
  {
   "cell_type": "markdown",
   "id": "1a0b9347",
   "metadata": {},
   "source": [
    "## Data analyse"
   ]
  },
  {
   "cell_type": "code",
   "execution_count": 35,
   "id": "b5c677bb",
   "metadata": {},
   "outputs": [],
   "source": [
    "def number_of_cases(cases, date):\n",
    "    count = 0\n",
    "    for item in cases:\n",
    "        if item['announce_date'] == date:\n",
    "            count += 1\n",
    "    return count"
   ]
  },
  {
   "cell_type": "code",
   "execution_count": 40,
   "id": "44cb0666",
   "metadata": {},
   "outputs": [],
   "source": [
    "def number_of_cases_by_sex(cases, start_date, end_date):\n",
    "    male = 0\n",
    "    female = 0\n",
    "    unknow = 0\n",
    "    for case in cases:\n",
    "        if  start_date <= case['announce_date'] <= end_date:\n",
    "            if case['sex'] == 'ชาย':\n",
    "                male += 1 \n",
    "            elif case['sex'] == 'หญิง':\n",
    "                female += 1\n",
    "            else:\n",
    "                unknow += 1\n",
    "    return male,female,unknow"
   ]
  },
  {
   "cell_type": "code",
   "execution_count": 43,
   "id": "7a760757",
   "metadata": {},
   "outputs": [],
   "source": [
    "def number_of_cases_by_age(cases, age_range):\n",
    "    bin = [0] * (len(age_range) + 1) \n",
    "    \n",
    "    for case in cases:\n",
    "        if case['Unit'] == 'เดือน' or case['Unit'] == 'วัน':\n",
    "            bin[0] += 1\n",
    "        elif case['Unit'] == 'ปี':\n",
    "            for i in range(len(bin)-1):\n",
    "                if age_range[i][0] <= float(case['age']) <= age_range[i][1]:\n",
    "                    bin[i] += 1\n",
    "                    break\n",
    "        else :\n",
    "            bin[-1] +=1\n",
    "            \n",
    "    return bin\n",
    "    "
   ]
  },
  {
   "cell_type": "markdown",
   "id": "7ec0d801",
   "metadata": {},
   "source": [
    "## Main Program"
   ]
  },
  {
   "cell_type": "code",
   "execution_count": 44,
   "id": "66256795",
   "metadata": {},
   "outputs": [
    {
     "name": "stdout",
     "output_type": "stream",
     "text": [
      "19982\n",
      "(33581, 48440, 5399)\n",
      "[51928, 110948, 93575, 55898, 12971, 74, 31217]\n"
     ]
    }
   ],
   "source": [
    "# Read File in to list\n",
    "data = read_data('Files\\confirmed-cases-since-120465.csv')\n",
    "\n",
    "# data head\n",
    "keys = data.pop(0).strip().split(',')\n",
    "\n",
    "cases = transform_data(data,keys)\n",
    "\n",
    "# data by date\n",
    "print(number_of_cases(cases,'12/4/2022'))\n",
    "\n",
    "# data by sex\n",
    "print(number_of_cases_by_sex(cases,'12/4/2022','15/4/2022'))\n",
    "\n",
    "#data by age range\n",
    "age_range = [(0,19),(20,39),(40,59),(60,79),(80,99),(100,119)]\n",
    "print(number_of_cases_by_age(cases,age_range))"
   ]
  },
  {
   "cell_type": "code",
   "execution_count": 27,
   "id": "72bdcc9c",
   "metadata": {},
   "outputs": [
    {
     "name": "stdout",
     "output_type": "stream",
     "text": [
      "{'No.': '3905873', 'announce_date': '12/4/2022', 'Notified date': '11/4/2022', 'sex': 'หญิง', 'age': '54', 'Unit': 'ปี', 'nationality': 'Thailand', 'province_of_isolation': 'เชียงใหม่', 'risk': 'อยู่ระหว่างการสอบสวน', 'province_of_onset': 'เชียงใหม่', 'district_of_onset': 'จอมทอง'}\n"
     ]
    }
   ],
   "source": [
    "print(cases[0])"
   ]
  }
 ],
 "metadata": {
  "kernelspec": {
   "display_name": "Python 3 (ipykernel)",
   "language": "python",
   "name": "python3"
  },
  "language_info": {
   "codemirror_mode": {
    "name": "ipython",
    "version": 3
   },
   "file_extension": ".py",
   "mimetype": "text/x-python",
   "name": "python",
   "nbconvert_exporter": "python",
   "pygments_lexer": "ipython3",
   "version": "3.10.7"
  }
 },
 "nbformat": 4,
 "nbformat_minor": 5
}
