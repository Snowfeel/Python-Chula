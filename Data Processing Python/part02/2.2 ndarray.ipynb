{
 "cells": [
  {
   "cell_type": "markdown",
   "id": "e16c561d",
   "metadata": {},
   "source": [
    "# 2.2 ndarray"
   ]
  },
  {
   "cell_type": "code",
   "execution_count": 1,
   "id": "1f3b0358",
   "metadata": {},
   "outputs": [
    {
     "name": "stdout",
     "output_type": "stream",
     "text": [
      "[10 20 30 40 50 60 70 80]\n",
      "dtype = int32\n",
      "item size = 4\n",
      "item x[0] = 10\n",
      "type of item x[0] = <class 'numpy.int32'>\n"
     ]
    }
   ],
   "source": [
    "import numpy as np\n",
    "\n",
    "x = np.array([10,20,30,40,50,60,70,80])\n",
    "\n",
    "print(x)\n",
    "print('dtype =', x.dtype)\n",
    "print('item size =',x.dtype.itemsize)\n",
    "print('item x[0] =', x[0])\n",
    "print('type of item x[0] =',type(x[0]))"
   ]
  },
  {
   "cell_type": "code",
   "execution_count": 2,
   "id": "a5300559",
   "metadata": {},
   "outputs": [
    {
     "name": "stdout",
     "output_type": "stream",
     "text": [
      "[10. 20. 30. 40. 50. 60. 70. 80.]\n",
      "dtype = float64\n",
      "item size = 8\n",
      "item x[0] = 10.0\n",
      "type of item x[0] = <class 'numpy.float64'>\n"
     ]
    }
   ],
   "source": [
    "x = np.array([10,20,30,40,50,60,70,80],np.float64)\n",
    "\n",
    "print(x)\n",
    "print('dtype =', x.dtype)\n",
    "print('item size =',x.dtype.itemsize)\n",
    "print('item x[0] =', x[0])\n",
    "print('type of item x[0] =',type(x[0]))"
   ]
  },
  {
   "cell_type": "code",
   "execution_count": 8,
   "id": "09f72c2c",
   "metadata": {},
   "outputs": [
    {
     "name": "stdout",
     "output_type": "stream",
     "text": [
      "[('C100', 'David', 25) ('C200', 'Phil', 30) ('C300', 'Stave', 35)]\n",
      "('C100', 'David', 25)\n",
      "['David' 'Phil' 'Stave']\n",
      "[('C300', 'Stave', 35)]\n"
     ]
    }
   ],
   "source": [
    "# Define cutsomer structure dtype\n",
    "customer_dtype = np.dtype([( 'cid' , np.str_ , 10 ),( 'name' , str , 30 ),( 'age' , np.int8 )])\n",
    "\n",
    "# Customer records\n",
    "cust_list = [('C100','David',25),('C200','Phil',30),('C300','Stave',35)]\n",
    "\n",
    "# Create custumer_dtype ndarray\n",
    "customers = np.array(cust_list , customer_dtype)\n",
    "\n",
    "print(customers)\n",
    "print(customers[0])\n",
    "print(customers['name'])\n",
    "print(customers[customers['age'] > 30])"
   ]
  },
  {
   "cell_type": "code",
   "execution_count": 3,
   "id": "926710ed",
   "metadata": {},
   "outputs": [
    {
     "name": "stdout",
     "output_type": "stream",
     "text": [
      "[ 1  2  3  4  5  6  7  8  9 10 11 12]\n",
      "(12,)\n"
     ]
    }
   ],
   "source": [
    "x = np.array(range(1,13))\n",
    "print(x)\n",
    "print(x.shape)"
   ]
  },
  {
   "cell_type": "code",
   "execution_count": 4,
   "id": "233a63c7",
   "metadata": {},
   "outputs": [
    {
     "name": "stdout",
     "output_type": "stream",
     "text": [
      "[ 1  2  3  4  5  6  7  8  9 10 11 12]\n",
      "[[ 1  2  3  4]\n",
      " [ 5  6  7  8]\n",
      " [ 9 10 11 12]]\n"
     ]
    }
   ],
   "source": [
    "rx = x.reshape(3,4)\n",
    "print(x)\n",
    "print(rx)"
   ]
  },
  {
   "cell_type": "code",
   "execution_count": 7,
   "id": "092eff0e",
   "metadata": {},
   "outputs": [
    {
     "name": "stdout",
     "output_type": "stream",
     "text": [
      "[ 1  2  3  4  5  6  7  8  9 10 11 12]\n",
      "[[ 1  2  3  4]\n",
      " [ 5  6  7  8]\n",
      " [ 9 10 11 12]]\n"
     ]
    }
   ],
   "source": [
    "# View\n",
    "x[0] = 1\n",
    "print(x)\n",
    "print(rx)"
   ]
  },
  {
   "cell_type": "code",
   "execution_count": 8,
   "id": "b78edc23",
   "metadata": {},
   "outputs": [
    {
     "data": {
      "text/plain": [
       "array([ 1,  2,  3,  4,  5,  6,  7,  8,  9, 10, 11, 12])"
      ]
     },
     "execution_count": 8,
     "metadata": {},
     "output_type": "execute_result"
    }
   ],
   "source": [
    "rx.base"
   ]
  },
  {
   "cell_type": "code",
   "execution_count": 11,
   "id": "c27e708a",
   "metadata": {},
   "outputs": [
    {
     "name": "stdout",
     "output_type": "stream",
     "text": [
      "[100   2   3   4   5   6   7   8   9  10  11  12]\n",
      "[[ 1  2  3  4]\n",
      " [ 5  6  7  8]\n",
      " [ 9 10 11 12]]\n"
     ]
    }
   ],
   "source": [
    "rx = x.reshape(3,4).copy()\n",
    "\n",
    "x[0] = 100\n",
    "print(x)\n",
    "print(rx)"
   ]
  },
  {
   "cell_type": "code",
   "execution_count": 12,
   "id": "3d9c07d7",
   "metadata": {},
   "outputs": [
    {
     "name": "stdout",
     "output_type": "stream",
     "text": [
      "[[ 1  2  3  4]\n",
      " [ 5  6  7  8]\n",
      " [ 9 10 11 12]]\n"
     ]
    }
   ],
   "source": [
    "# order = 'C' - row-major order\n",
    "x = np.array(range(1,13)).reshape(3,4,order = 'C')\n",
    "print(x)"
   ]
  },
  {
   "cell_type": "code",
   "execution_count": 14,
   "id": "a9be93cf",
   "metadata": {},
   "outputs": [
    {
     "name": "stdout",
     "output_type": "stream",
     "text": [
      "[[ 1  4  7 10]\n",
      " [ 2  5  8 11]\n",
      " [ 3  6  9 12]]\n"
     ]
    }
   ],
   "source": [
    "# order = 'F' - column-major order\n",
    "x = np.array(range(1,13)).reshape(3,4,order = 'F')\n",
    "print(x)"
   ]
  },
  {
   "cell_type": "code",
   "execution_count": 15,
   "id": "8bc717e3",
   "metadata": {},
   "outputs": [
    {
     "name": "stdout",
     "output_type": "stream",
     "text": [
      "[[1 2 3]\n",
      " [4 5 6]]\n",
      "(2, 3)\n"
     ]
    }
   ],
   "source": [
    "x = np.array([ [1,2,3] , [4,5,6] ])\n",
    "print(x)\n",
    "print(x.shape)"
   ]
  },
  {
   "cell_type": "code",
   "execution_count": 19,
   "id": "7d808ae6",
   "metadata": {},
   "outputs": [
    {
     "name": "stdout",
     "output_type": "stream",
     "text": [
      "[[1 2 3]\n",
      " [4 5 6]] \n",
      "\n",
      "np.sum(x,axis = 0) =  [5 7 9]\n",
      "np.sum(x,axis = 1) =  [ 6 15]\n"
     ]
    }
   ],
   "source": [
    "print(x,'\\n')\n",
    "print('np.sum(x,axis = 0) = ' , np.sum(x,axis = 0))\n",
    "print('np.sum(x,axis = 1) = ' , np.sum(x,axis = 1))"
   ]
  },
  {
   "cell_type": "code",
   "execution_count": 22,
   "id": "34a95bb0",
   "metadata": {},
   "outputs": [
    {
     "name": "stdout",
     "output_type": "stream",
     "text": [
      "[[[ 1  2  3]\n",
      "  [ 4  5  6]]\n",
      "\n",
      " [[ 7  8  9]\n",
      "  [10 11 12]]]\n",
      "(2, 2, 3)\n"
     ]
    }
   ],
   "source": [
    "x = np.array([ [ [1,2,3] ,[4,5,6] ] ,[ [7,8,9],[10,11,12] ] ])\n",
    "print(x)\n",
    "print(x.shape)"
   ]
  },
  {
   "cell_type": "code",
   "execution_count": 23,
   "id": "1428cac1",
   "metadata": {},
   "outputs": [
    {
     "name": "stderr",
     "output_type": "stream",
     "text": [
      "C:\\Users\\Snowfeel\\AppData\\Local\\Temp\\ipykernel_16300\\3027887509.py:1: VisibleDeprecationWarning: Creating an ndarray from ragged nested sequences (which is a list-or-tuple of lists-or-tuples-or ndarrays with different lengths or shapes) is deprecated. If you meant to do this, you must specify 'dtype=object' when creating the ndarray.\n",
      "  x = np.array([ [1,2,3] , [4,5,6] ,[7,8] ])\n"
     ]
    }
   ],
   "source": [
    "x = np.array([ [1,2,3] , [4,5,6] ,[7,8] ])"
   ]
  },
  {
   "cell_type": "code",
   "execution_count": 26,
   "id": "d61a4854",
   "metadata": {},
   "outputs": [
    {
     "name": "stdout",
     "output_type": "stream",
     "text": [
      "[list([1, 2, 3]) list([4, 5, 6]) list([7, 8])]\n",
      "(3,)\n",
      "[1, 2, 3] <class 'list'>\n"
     ]
    }
   ],
   "source": [
    "x = np.array([ [1,2,3] , [4,5,6] ,[7,8] ],dtype = object)\n",
    "print(x)\n",
    "print(x.shape)\n",
    "print(x[0],type(x[0]))"
   ]
  },
  {
   "cell_type": "code",
   "execution_count": 27,
   "id": "738db775",
   "metadata": {},
   "outputs": [
    {
     "name": "stdout",
     "output_type": "stream",
     "text": [
      "[10. 20. 30. 40. 50. 60. 70. 80.]\n",
      "(8,)\n"
     ]
    }
   ],
   "source": [
    "x = np.arange(10,90,10,np.float64)\n",
    "print(x)\n",
    "print(x.shape)"
   ]
  },
  {
   "cell_type": "code",
   "execution_count": 28,
   "id": "3873e865",
   "metadata": {},
   "outputs": [
    {
     "name": "stdout",
     "output_type": "stream",
     "text": [
      "[[-25049024       511]\n",
      " [-24963072       511]\n",
      " [-24963840       511]]\n"
     ]
    }
   ],
   "source": [
    "m = np.empty((3,2),dtype = int)\n",
    "print(m)"
   ]
  },
  {
   "cell_type": "code",
   "execution_count": 30,
   "id": "8dd04891",
   "metadata": {},
   "outputs": [
    {
     "name": "stdout",
     "output_type": "stream",
     "text": [
      "[[0 0]\n",
      " [0 0]\n",
      " [0 0]]\n"
     ]
    }
   ],
   "source": [
    "m = np.zeros((3,2),dtype = int)\n",
    "print(m)"
   ]
  },
  {
   "cell_type": "code",
   "execution_count": 31,
   "id": "6ce62070",
   "metadata": {},
   "outputs": [
    {
     "name": "stdout",
     "output_type": "stream",
     "text": [
      "[[1 1]\n",
      " [1 1]\n",
      " [1 1]]\n"
     ]
    }
   ],
   "source": [
    "m = np.ones((3,2),dtype = int)\n",
    "print(m)"
   ]
  },
  {
   "cell_type": "code",
   "execution_count": null,
   "id": "16a657e4",
   "metadata": {},
   "outputs": [],
   "source": []
  }
 ],
 "metadata": {
  "kernelspec": {
   "display_name": "Python 3 (ipykernel)",
   "language": "python",
   "name": "python3"
  },
  "language_info": {
   "codemirror_mode": {
    "name": "ipython",
    "version": 3
   },
   "file_extension": ".py",
   "mimetype": "text/x-python",
   "name": "python",
   "nbconvert_exporter": "python",
   "pygments_lexer": "ipython3",
   "version": "3.10.7"
  }
 },
 "nbformat": 4,
 "nbformat_minor": 5
}
