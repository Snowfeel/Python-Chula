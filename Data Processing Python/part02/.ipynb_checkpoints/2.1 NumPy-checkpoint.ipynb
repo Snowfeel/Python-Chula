{
 "cells": [
  {
   "cell_type": "markdown",
   "id": "b8075548",
   "metadata": {},
   "source": [
    "# 2.1 NumPy"
   ]
  },
  {
   "cell_type": "code",
   "execution_count": 2,
   "id": "d23c11a9",
   "metadata": {},
   "outputs": [
    {
     "name": "stdout",
     "output_type": "stream",
     "text": [
      "1.04 ms ± 128 µs per loop (mean ± std. dev. of 7 runs, 5 loops each)\n"
     ]
    }
   ],
   "source": [
    "import numpy as np\n",
    "\n",
    "size = 500000\n",
    "\n",
    "x = np.arange( 0, size-1)\n",
    "y = np.arange( 0, size-1)\n",
    "\n",
    "# Magic command\n",
    "%timeit -n5 x*y"
   ]
  },
  {
   "cell_type": "code",
   "execution_count": 6,
   "id": "4218b2a6",
   "metadata": {},
   "outputs": [
    {
     "name": "stdout",
     "output_type": "stream",
     "text": [
      "63 ms ± 3.13 ms per loop (mean ± std. dev. of 7 runs, 5 loops each)\n"
     ]
    }
   ],
   "source": [
    "lx  = list(range(0,size))\n",
    "ly  = list(range(0,size))\n",
    "\n",
    "%timeit -n5 [lx[i] * ly[i] for i in range(0,size)]"
   ]
  },
  {
   "cell_type": "code",
   "execution_count": 5,
   "id": "7af8dc5a",
   "metadata": {},
   "outputs": [
    {
     "name": "stdout",
     "output_type": "stream",
     "text": [
      "61.1 ms ± 5.31 ms per loop (mean ± std. dev. of 7 runs, 5 loops each)\n"
     ]
    }
   ],
   "source": [
    "%timeit -n5 list(map(lambda x,y: x*y ,lx,ly))"
   ]
  },
  {
   "cell_type": "code",
   "execution_count": null,
   "id": "63d785a5",
   "metadata": {},
   "outputs": [],
   "source": []
  }
 ],
 "metadata": {
  "kernelspec": {
   "display_name": "Python 3 (ipykernel)",
   "language": "python",
   "name": "python3"
  },
  "language_info": {
   "codemirror_mode": {
    "name": "ipython",
    "version": 3
   },
   "file_extension": ".py",
   "mimetype": "text/x-python",
   "name": "python",
   "nbconvert_exporter": "python",
   "pygments_lexer": "ipython3",
   "version": "3.10.7"
  }
 },
 "nbformat": 4,
 "nbformat_minor": 5
}
