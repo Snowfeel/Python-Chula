{
 "cells": [
  {
   "cell_type": "markdown",
   "id": "4b0fca38",
   "metadata": {},
   "source": [
    "# 2.2 ndarray"
   ]
  },
  {
   "cell_type": "code",
   "execution_count": 1,
   "id": "5ef56a0f",
   "metadata": {},
   "outputs": [
    {
     "name": "stdout",
     "output_type": "stream",
     "text": [
      "[10 20 30 40 50 60 70 80]\n",
      "dtype = int32\n",
      "item size = 4\n",
      "item x[0] = 10\n",
      "type of item x[0] = <class 'numpy.int32'>\n"
     ]
    }
   ],
   "source": [
    "import numpy as np\n",
    "\n",
    "x = np.array([10,20,30,40,50,60,70,80])\n",
    "\n",
    "print(x)\n",
    "print('dtype =', x.dtype)\n",
    "print('item size =',x.dtype.itemsize)\n",
    "print('item x[0] =', x[0])\n",
    "print('type of item x[0] =',type(x[0]))"
   ]
  },
  {
   "cell_type": "code",
   "execution_count": 2,
   "id": "37ad9861",
   "metadata": {},
   "outputs": [
    {
     "name": "stdout",
     "output_type": "stream",
     "text": [
      "[10. 20. 30. 40. 50. 60. 70. 80.]\n",
      "dtype = float64\n",
      "item size = 8\n",
      "item x[0] = 10.0\n",
      "type of item x[0] = <class 'numpy.float64'>\n"
     ]
    }
   ],
   "source": [
    "x = np.array([10,20,30,40,50,60,70,80],np.float64)\n",
    "\n",
    "print(x)\n",
    "print('dtype =', x.dtype)\n",
    "print('item size =',x.dtype.itemsize)\n",
    "print('item x[0] =', x[0])\n",
    "print('type of item x[0] =',type(x[0]))"
   ]
  },
  {
   "cell_type": "code",
   "execution_count": 8,
   "id": "13f72f29",
   "metadata": {},
   "outputs": [
    {
     "name": "stdout",
     "output_type": "stream",
     "text": [
      "[('C100', 'David', 25) ('C200', 'Phil', 30) ('C300', 'Stave', 35)]\n",
      "('C100', 'David', 25)\n",
      "['David' 'Phil' 'Stave']\n",
      "[('C300', 'Stave', 35)]\n"
     ]
    }
   ],
   "source": [
    "# Define cutsomer structure dtype\n",
    "customer_dtype = np.dtype([( 'cid' , np.str_ , 10 ),( 'name' , str , 30 ),( 'age' , np.int8 )])\n",
    "\n",
    "# Customer records\n",
    "cust_list = [('C100','David',25),('C200','Phil',30),('C300','Stave',35)]\n",
    "\n",
    "# Create custumer_dtype ndarray\n",
    "customers = np.array(cust_list , customer_dtype)\n",
    "\n",
    "print(customers)\n",
    "print(customers[0])\n",
    "print(customers['name'])\n",
    "print(customers[customers['age'] > 30])"
   ]
  },
  {
   "cell_type": "code",
   "execution_count": null,
   "id": "40c05b08",
   "metadata": {},
   "outputs": [],
   "source": []
  }
 ],
 "metadata": {
  "kernelspec": {
   "display_name": "Python 3 (ipykernel)",
   "language": "python",
   "name": "python3"
  },
  "language_info": {
   "codemirror_mode": {
    "name": "ipython",
    "version": 3
   },
   "file_extension": ".py",
   "mimetype": "text/x-python",
   "name": "python",
   "nbconvert_exporter": "python",
   "pygments_lexer": "ipython3",
   "version": "3.10.7"
  }
 },
 "nbformat": 4,
 "nbformat_minor": 5
}
